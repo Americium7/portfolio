{
  "nbformat": 4,
  "nbformat_minor": 0,
  "metadata": {
    "colab": {
      "name": "Phase2_Group115.ipynb",
      "provenance": [],
      "collapsed_sections": [],
      "toc_visible": true,
      "include_colab_link": true
    },
    "kernelspec": {
      "display_name": "Python 3",
      "language": "python",
      "name": "python3"
    },
    "language_info": {
      "codemirror_mode": {
        "name": "ipython",
        "version": 3
      },
      "file_extension": ".py",
      "mimetype": "text/x-python",
      "name": "python",
      "nbconvert_exporter": "python",
      "pygments_lexer": "ipython3",
      "version": "3.8.5"
    }
  },
  "cells": [
    {
      "cell_type": "markdown",
      "metadata": {
        "id": "view-in-github",
        "colab_type": "text"
      },
      "source": [
        "<a href=\"https://colab.research.google.com/github/Americium7/portfolio/blob/main/Machine%20Learning%20Assignment%20Python.ipynb\" target=\"_parent\"><img src=\"https://colab.research.google.com/assets/colab-badge.svg\" alt=\"Open In Colab\"/></a>"
      ]
    },
    {
      "cell_type": "code",
      "metadata": {
        "id": "9b33TcQPbP3i"
      },
      "source": [
        "# MATH Machine Learning Phase 2"
      ],
      "execution_count": null,
      "outputs": []
    },
    {
      "cell_type": "markdown",
      "metadata": {
        "id": "K0FMfOW6clAt"
      },
      "source": [
        "# Introduction\n",
        "\n",
        "The primary objective of this project is to predict the target feature that is the \n",
        "churn of a customer using the telecom users dataset from Kaggle. As churn is categorized as yes\n",
        "or no, this can be called as classification problem because the target feature\n",
        "is a decriptive feature.\n",
        "\n"
      ]
    },
    {
      "cell_type": "markdown",
      "metadata": {
        "id": "vUyG8ppKc0C0"
      },
      "source": [
        "# Report Overview\n",
        "\n",
        "\n",
        "* [Overview of Methodology](#Overview-of-Methodology)\n",
        "\n",
        "* [Encoding and Scaling](#Encoding-and-Scaling)\n",
        "\n",
        "* [Feature Selection](#Feature-Selection)\n",
        "  +  [F-Score](#F-Score)\n",
        "  +  [Mutual Information](#Mutual-Information)\n",
        "  +  [Random Forest](#Random-Forest)\n",
        "  +   [SPSA](#SPSA)\n",
        "\n",
        "*  [Sampling](#sample)\n",
        "\n",
        "\n",
        "*  [Classifiers](#class)\n",
        "    \n",
        "   +  [KNN](#knn)\n",
        "   +  [Decision Trees](#dt)\n",
        "   +  [Naive Bayes](#nb)\n",
        "   +  [SVM](#svm)\n",
        "   +  [Bagging](#bagging)\n",
        "   +  [Gradient Boosting](#GB)\n",
        "\n",
        "*  [Model Comparision](#mod)\n",
        "*  [Critique & Limitations](#Critique-&-Limitations)\n",
        "\n",
        "*  [Summary & Conclusions](#Summary-&-Conclusions)\n",
        "\n",
        "    + [Project Summary](#Project-Summary)\n",
        "    + [Summary of Findings](Summary-of-Findings)\n",
        "    + [Conclusion](#Conclusion)"
      ]
    },
    {
      "cell_type": "markdown",
      "metadata": {
        "id": "K2PaTRBFhZMB"
      },
      "source": [
        "## Overview of Methodology"
      ]
    },
    {
      "cell_type": "markdown",
      "metadata": {
        "id": "MdkDI7pfhdgC"
      },
      "source": [
        "\n",
        "We perform one hot encoding of the Desciptive features and the Target encoding oth the Target feature.\n",
        "\n",
        "We then scale our data \n",
        "\n",
        "We split data into test and train sets with a ratio of 70:30\n",
        "\n",
        "\n",
        "The following feature selection methods are used:\n",
        "F-score <br>\n",
        "Mutual information <br>\n",
        "Random forest importance  <br>\n",
        "SPSA <br>\n",
        "\n",
        "Of which we find that SPSA method is the most effective.\n",
        "\n",
        "The following algorithms are used subsequently for the predictive modelling\n",
        "\n",
        ".K-Nearest Neighbors  <br>\n",
        ".Decision trees <br>\n",
        ".Naive Bayes  <br>\n",
        ".SVM <br>\n",
        ".Bagging <br>\n",
        ".Gradient Boosting <br>\n",
        "\n",
        "We check the models with repect to AUC.\n",
        "We then compare the models we have created using paired t-tests\n",
        "\n",
        "\n",
        "\n",
        "\n",
        "We fit the model on train data and evaluate its performance on the test dataset. \n",
        "we conduct a 5-fold stratified cross-validation to fine-tune hyperparameters of each classifier\n",
        "we use the Grid search function that searches through all the best combinations in the train phase \n",
        "and provide the hyperaparameters with the highest accuracy score.\n",
        "\n",
        "We use the plot to show the same.\n",
        "\n",
        "\n",
        "Once we have identify the respectiver hyper parameters for the respective classifiers we fit the model on the test data\n",
        "\n",
        "After subsequently performing all the above algorithms \n",
        "We compare the Models using paired t-tests to see if there is a statistical significance.\n",
        "And construct a classification report for each of the models with respect to their recall scores and confusion matrices on the test data.\n"
      ]
    },
    {
      "cell_type": "markdown",
      "metadata": {
        "id": "Gpc-N8quUnGM"
      },
      "source": [
        ""
      ]
    },
    {
      "cell_type": "code",
      "metadata": {
        "id": "q1hYcXU6awUV"
      },
      "source": [
        "import warnings \n",
        "warnings.filterwarnings(\"ignore\")#ignore warnings command\n",
        "import numpy as np\n",
        "import pandas as pd\n",
        "from sklearn.model_selection import cross_val_score, RepeatedStratifiedKFold\n",
        "import sklearn.metrics as metrics\n",
        "from sklearn.ensemble import RandomForestClassifier\n",
        "from sklearn import preprocessing\n",
        "from sklearn import feature_selection as fs\n",
        "from sklearn.tree import DecisionTreeClassifier\n",
        "\n",
        "pd.set_option('display.max_columns', None) \n",
        "\n",
        "\n",
        "from IPython.display import display, HTML\n",
        "#reading the data file\n",
        "tel_sample = pd.read_csv('tel_sample.csv')\n"
      ],
      "execution_count": null,
      "outputs": []
    },
    {
      "cell_type": "markdown",
      "metadata": {
        "id": "w5-E95iid4Mj"
      },
      "source": [
        "## Encoding and Scaling"
      ]
    },
    {
      "cell_type": "code",
      "metadata": {
        "id": "2jQRvM5jawUY"
      },
      "source": [
        "Data3 = tel_sample.drop(columns = 'Churn')\n",
        "target = tel_sample['Churn']\n"
      ],
      "execution_count": null,
      "outputs": []
    },
    {
      "cell_type": "code",
      "metadata": {
        "id": "7idP43EKawUY"
      },
      "source": [
        "target = pd.get_dummies(target, drop_first= True)"
      ],
      "execution_count": null,
      "outputs": []
    },
    {
      "cell_type": "code",
      "metadata": {
        "id": "hHNRJvqPawUY"
      },
      "source": [
        "Data2 = pd.get_dummies(Data3, columns=['gender','Partner','Dependents','PhoneService','PaperlessBilling'],drop_first= True)"
      ],
      "execution_count": null,
      "outputs": []
    },
    {
      "cell_type": "code",
      "metadata": {
        "id": "pnme4oS-awUZ"
      },
      "source": [
        "le = preprocessing.LabelEncoder()\n",
        "Data2['MultipleLines'] = le.fit_transform(Data2['MultipleLines'])\n",
        "Data2['InternetService'] = le.fit_transform(Data2['InternetService'])\n",
        "Data2['OnlineSecurity'] = le.fit_transform(Data2['OnlineSecurity'])\n",
        "Data2['OnlineBackup'] = le.fit_transform(Data2['OnlineBackup'])\n",
        "Data2['DeviceProtection'] = le.fit_transform(Data2['DeviceProtection'])\n",
        "Data2['TechSupport'] = le.fit_transform(Data2['TechSupport'])\n",
        "Data2['StreamingTV'] = le.fit_transform(Data2['StreamingTV'])\n",
        "Data2['StreamingMovies'] = le.fit_transform(Data2['StreamingMovies'])\n",
        "Data2['Contract'] = le.fit_transform(Data2['Contract'])\n",
        "Data2['PaymentMethod'] = le.fit_transform(Data2['PaymentMethod'])\n",
        "\n"
      ],
      "execution_count": null,
      "outputs": []
    },
    {
      "cell_type": "code",
      "metadata": {
        "colab": {
          "base_uri": "https://localhost:8080/"
        },
        "id": "Fstc0P2BawUZ",
        "outputId": "6650d54c-aa24-4ee1-ce8b-a9cbe5a9187d"
      },
      "source": [
        "Data2.shape"
      ],
      "execution_count": null,
      "outputs": [
        {
          "output_type": "execute_result",
          "data": {
            "text/plain": [
              "(2000, 19)"
            ]
          },
          "metadata": {
            "tags": []
          },
          "execution_count": 9
        }
      ]
    },
    {
      "cell_type": "code",
      "metadata": {
        "colab": {
          "base_uri": "https://localhost:8080/",
          "height": 379
        },
        "id": "kTYD0pnGawUa",
        "scrolled": false,
        "outputId": "83e485ab-c3df-4066-fdd3-0b6b4d1ea3d1"
      },
      "source": [
        "Data2.sample(n=10, random_state=999)"
      ],
      "execution_count": null,
      "outputs": [
        {
          "output_type": "execute_result",
          "data": {
            "text/html": [
              "<div>\n",
              "<style scoped>\n",
              "    .dataframe tbody tr th:only-of-type {\n",
              "        vertical-align: middle;\n",
              "    }\n",
              "\n",
              "    .dataframe tbody tr th {\n",
              "        vertical-align: top;\n",
              "    }\n",
              "\n",
              "    .dataframe thead th {\n",
              "        text-align: right;\n",
              "    }\n",
              "</style>\n",
              "<table border=\"1\" class=\"dataframe\">\n",
              "  <thead>\n",
              "    <tr style=\"text-align: right;\">\n",
              "      <th></th>\n",
              "      <th>SeniorCitizen</th>\n",
              "      <th>tenure</th>\n",
              "      <th>MultipleLines</th>\n",
              "      <th>InternetService</th>\n",
              "      <th>OnlineSecurity</th>\n",
              "      <th>OnlineBackup</th>\n",
              "      <th>DeviceProtection</th>\n",
              "      <th>TechSupport</th>\n",
              "      <th>StreamingTV</th>\n",
              "      <th>StreamingMovies</th>\n",
              "      <th>Contract</th>\n",
              "      <th>PaymentMethod</th>\n",
              "      <th>MonthlyCharges</th>\n",
              "      <th>TotalCharges</th>\n",
              "      <th>gender_Male</th>\n",
              "      <th>Partner_Yes</th>\n",
              "      <th>Dependents_Yes</th>\n",
              "      <th>PhoneService_Yes</th>\n",
              "      <th>PaperlessBilling_Yes</th>\n",
              "    </tr>\n",
              "  </thead>\n",
              "  <tbody>\n",
              "    <tr>\n",
              "      <th>1015</th>\n",
              "      <td>0</td>\n",
              "      <td>58</td>\n",
              "      <td>2</td>\n",
              "      <td>1</td>\n",
              "      <td>0</td>\n",
              "      <td>2</td>\n",
              "      <td>0</td>\n",
              "      <td>2</td>\n",
              "      <td>2</td>\n",
              "      <td>0</td>\n",
              "      <td>1</td>\n",
              "      <td>1</td>\n",
              "      <td>94.70</td>\n",
              "      <td>5430.35</td>\n",
              "      <td>1</td>\n",
              "      <td>1</td>\n",
              "      <td>1</td>\n",
              "      <td>1</td>\n",
              "      <td>1</td>\n",
              "    </tr>\n",
              "    <tr>\n",
              "      <th>1990</th>\n",
              "      <td>0</td>\n",
              "      <td>13</td>\n",
              "      <td>2</td>\n",
              "      <td>0</td>\n",
              "      <td>2</td>\n",
              "      <td>2</td>\n",
              "      <td>2</td>\n",
              "      <td>2</td>\n",
              "      <td>2</td>\n",
              "      <td>2</td>\n",
              "      <td>2</td>\n",
              "      <td>1</td>\n",
              "      <td>88.95</td>\n",
              "      <td>1161.75</td>\n",
              "      <td>0</td>\n",
              "      <td>0</td>\n",
              "      <td>1</td>\n",
              "      <td>1</td>\n",
              "      <td>0</td>\n",
              "    </tr>\n",
              "    <tr>\n",
              "      <th>672</th>\n",
              "      <td>0</td>\n",
              "      <td>2</td>\n",
              "      <td>1</td>\n",
              "      <td>0</td>\n",
              "      <td>0</td>\n",
              "      <td>0</td>\n",
              "      <td>0</td>\n",
              "      <td>0</td>\n",
              "      <td>2</td>\n",
              "      <td>2</td>\n",
              "      <td>0</td>\n",
              "      <td>2</td>\n",
              "      <td>45.25</td>\n",
              "      <td>85.50</td>\n",
              "      <td>0</td>\n",
              "      <td>0</td>\n",
              "      <td>0</td>\n",
              "      <td>0</td>\n",
              "      <td>1</td>\n",
              "    </tr>\n",
              "    <tr>\n",
              "      <th>624</th>\n",
              "      <td>1</td>\n",
              "      <td>20</td>\n",
              "      <td>2</td>\n",
              "      <td>1</td>\n",
              "      <td>0</td>\n",
              "      <td>0</td>\n",
              "      <td>0</td>\n",
              "      <td>0</td>\n",
              "      <td>2</td>\n",
              "      <td>0</td>\n",
              "      <td>0</td>\n",
              "      <td>2</td>\n",
              "      <td>84.35</td>\n",
              "      <td>1745.20</td>\n",
              "      <td>1</td>\n",
              "      <td>0</td>\n",
              "      <td>0</td>\n",
              "      <td>1</td>\n",
              "      <td>1</td>\n",
              "    </tr>\n",
              "    <tr>\n",
              "      <th>1497</th>\n",
              "      <td>0</td>\n",
              "      <td>67</td>\n",
              "      <td>0</td>\n",
              "      <td>2</td>\n",
              "      <td>1</td>\n",
              "      <td>1</td>\n",
              "      <td>1</td>\n",
              "      <td>1</td>\n",
              "      <td>1</td>\n",
              "      <td>1</td>\n",
              "      <td>1</td>\n",
              "      <td>2</td>\n",
              "      <td>20.55</td>\n",
              "      <td>1343.40</td>\n",
              "      <td>0</td>\n",
              "      <td>0</td>\n",
              "      <td>0</td>\n",
              "      <td>1</td>\n",
              "      <td>0</td>\n",
              "    </tr>\n",
              "    <tr>\n",
              "      <th>111</th>\n",
              "      <td>0</td>\n",
              "      <td>9</td>\n",
              "      <td>2</td>\n",
              "      <td>1</td>\n",
              "      <td>0</td>\n",
              "      <td>2</td>\n",
              "      <td>0</td>\n",
              "      <td>0</td>\n",
              "      <td>2</td>\n",
              "      <td>2</td>\n",
              "      <td>0</td>\n",
              "      <td>1</td>\n",
              "      <td>99.30</td>\n",
              "      <td>918.75</td>\n",
              "      <td>1</td>\n",
              "      <td>0</td>\n",
              "      <td>0</td>\n",
              "      <td>1</td>\n",
              "      <td>1</td>\n",
              "    </tr>\n",
              "    <tr>\n",
              "      <th>1350</th>\n",
              "      <td>0</td>\n",
              "      <td>64</td>\n",
              "      <td>2</td>\n",
              "      <td>1</td>\n",
              "      <td>2</td>\n",
              "      <td>2</td>\n",
              "      <td>2</td>\n",
              "      <td>2</td>\n",
              "      <td>2</td>\n",
              "      <td>2</td>\n",
              "      <td>1</td>\n",
              "      <td>2</td>\n",
              "      <td>115.00</td>\n",
              "      <td>7396.15</td>\n",
              "      <td>0</td>\n",
              "      <td>1</td>\n",
              "      <td>0</td>\n",
              "      <td>1</td>\n",
              "      <td>1</td>\n",
              "    </tr>\n",
              "    <tr>\n",
              "      <th>1158</th>\n",
              "      <td>0</td>\n",
              "      <td>2</td>\n",
              "      <td>0</td>\n",
              "      <td>1</td>\n",
              "      <td>0</td>\n",
              "      <td>0</td>\n",
              "      <td>0</td>\n",
              "      <td>0</td>\n",
              "      <td>0</td>\n",
              "      <td>0</td>\n",
              "      <td>0</td>\n",
              "      <td>2</td>\n",
              "      <td>69.65</td>\n",
              "      <td>145.15</td>\n",
              "      <td>0</td>\n",
              "      <td>0</td>\n",
              "      <td>0</td>\n",
              "      <td>1</td>\n",
              "      <td>0</td>\n",
              "    </tr>\n",
              "    <tr>\n",
              "      <th>803</th>\n",
              "      <td>0</td>\n",
              "      <td>41</td>\n",
              "      <td>2</td>\n",
              "      <td>1</td>\n",
              "      <td>0</td>\n",
              "      <td>0</td>\n",
              "      <td>2</td>\n",
              "      <td>0</td>\n",
              "      <td>2</td>\n",
              "      <td>2</td>\n",
              "      <td>0</td>\n",
              "      <td>0</td>\n",
              "      <td>98.05</td>\n",
              "      <td>3990.60</td>\n",
              "      <td>0</td>\n",
              "      <td>0</td>\n",
              "      <td>0</td>\n",
              "      <td>1</td>\n",
              "      <td>0</td>\n",
              "    </tr>\n",
              "    <tr>\n",
              "      <th>100</th>\n",
              "      <td>0</td>\n",
              "      <td>35</td>\n",
              "      <td>0</td>\n",
              "      <td>0</td>\n",
              "      <td>2</td>\n",
              "      <td>2</td>\n",
              "      <td>2</td>\n",
              "      <td>0</td>\n",
              "      <td>0</td>\n",
              "      <td>0</td>\n",
              "      <td>0</td>\n",
              "      <td>3</td>\n",
              "      <td>61.00</td>\n",
              "      <td>2130.45</td>\n",
              "      <td>1</td>\n",
              "      <td>1</td>\n",
              "      <td>0</td>\n",
              "      <td>1</td>\n",
              "      <td>0</td>\n",
              "    </tr>\n",
              "  </tbody>\n",
              "</table>\n",
              "</div>"
            ],
            "text/plain": [
              "      SeniorCitizen  tenure  MultipleLines  InternetService  OnlineSecurity  \\\n",
              "1015              0      58              2                1               0   \n",
              "1990              0      13              2                0               2   \n",
              "672               0       2              1                0               0   \n",
              "624               1      20              2                1               0   \n",
              "1497              0      67              0                2               1   \n",
              "111               0       9              2                1               0   \n",
              "1350              0      64              2                1               2   \n",
              "1158              0       2              0                1               0   \n",
              "803               0      41              2                1               0   \n",
              "100               0      35              0                0               2   \n",
              "\n",
              "      OnlineBackup  DeviceProtection  TechSupport  StreamingTV  \\\n",
              "1015             2                 0            2            2   \n",
              "1990             2                 2            2            2   \n",
              "672              0                 0            0            2   \n",
              "624              0                 0            0            2   \n",
              "1497             1                 1            1            1   \n",
              "111              2                 0            0            2   \n",
              "1350             2                 2            2            2   \n",
              "1158             0                 0            0            0   \n",
              "803              0                 2            0            2   \n",
              "100              2                 2            0            0   \n",
              "\n",
              "      StreamingMovies  Contract  PaymentMethod  MonthlyCharges  TotalCharges  \\\n",
              "1015                0         1              1           94.70       5430.35   \n",
              "1990                2         2              1           88.95       1161.75   \n",
              "672                 2         0              2           45.25         85.50   \n",
              "624                 0         0              2           84.35       1745.20   \n",
              "1497                1         1              2           20.55       1343.40   \n",
              "111                 2         0              1           99.30        918.75   \n",
              "1350                2         1              2          115.00       7396.15   \n",
              "1158                0         0              2           69.65        145.15   \n",
              "803                 2         0              0           98.05       3990.60   \n",
              "100                 0         0              3           61.00       2130.45   \n",
              "\n",
              "      gender_Male  Partner_Yes  Dependents_Yes  PhoneService_Yes  \\\n",
              "1015            1            1               1                 1   \n",
              "1990            0            0               1                 1   \n",
              "672             0            0               0                 0   \n",
              "624             1            0               0                 1   \n",
              "1497            0            0               0                 1   \n",
              "111             1            0               0                 1   \n",
              "1350            0            1               0                 1   \n",
              "1158            0            0               0                 1   \n",
              "803             0            0               0                 1   \n",
              "100             1            1               0                 1   \n",
              "\n",
              "      PaperlessBilling_Yes  \n",
              "1015                     1  \n",
              "1990                     0  \n",
              "672                      1  \n",
              "624                      1  \n",
              "1497                     0  \n",
              "111                      1  \n",
              "1350                     1  \n",
              "1158                     0  \n",
              "803                      0  \n",
              "100                      0  "
            ]
          },
          "metadata": {
            "tags": []
          },
          "execution_count": 10
        }
      ]
    },
    {
      "cell_type": "code",
      "metadata": {
        "id": "i4bNSNGLawUa"
      },
      "source": [
        "Data2 = preprocessing.MinMaxScaler().fit_transform(Data2)"
      ],
      "execution_count": null,
      "outputs": []
    },
    {
      "cell_type": "code",
      "metadata": {
        "id": "UMpe0NHMawUb"
      },
      "source": [
        "clf = DecisionTreeClassifier(random_state=999)"
      ],
      "execution_count": null,
      "outputs": []
    },
    {
      "cell_type": "code",
      "metadata": {
        "id": "lKNOk0pwawUb"
      },
      "source": [
        "cv_method = RepeatedStratifiedKFold(n_splits=5, \n",
        "                                     n_repeats=3,\n",
        "                                     random_state=999)"
      ],
      "execution_count": null,
      "outputs": []
    },
    {
      "cell_type": "code",
      "metadata": {
        "id": "z2I1ykXWawUb"
      },
      "source": [
        "scoring_metric = 'accuracy'"
      ],
      "execution_count": null,
      "outputs": []
    },
    {
      "cell_type": "code",
      "metadata": {
        "id": "a4T7AO12awUb"
      },
      "source": [
        "Data= Data2\n",
        "target2= target"
      ],
      "execution_count": null,
      "outputs": []
    },
    {
      "cell_type": "code",
      "metadata": {
        "id": "NAYPStD8cKbc"
      },
      "source": [
        "from sklearn.model_selection import train_test_split\n",
        "\n",
        "D_train, D_test, t_train, t_test = train_test_split(Data, target, test_size = 0.3, random_state=999)"
      ],
      "execution_count": null,
      "outputs": []
    },
    {
      "cell_type": "code",
      "metadata": {
        "colab": {
          "base_uri": "https://localhost:8080/"
        },
        "id": "YLp4B03vcQK1",
        "outputId": "a9f9e1c8-bc76-4bb9-f771-0db4785c66cf"
      },
      "source": [
        "print(D_train.shape)\n",
        "print(D_test.shape)"
      ],
      "execution_count": null,
      "outputs": [
        {
          "output_type": "stream",
          "text": [
            "(1400, 19)\n",
            "(600, 19)\n"
          ],
          "name": "stdout"
        }
      ]
    },
    {
      "cell_type": "code",
      "metadata": {
        "id": "bF0tkhKacRG4"
      },
      "source": [
        "Data = D_train\n",
        "target= t_train"
      ],
      "execution_count": null,
      "outputs": []
    },
    {
      "cell_type": "markdown",
      "metadata": {
        "id": "0uujzSKceqLr"
      },
      "source": [
        "## Feature Selection"
      ]
    },
    {
      "cell_type": "code",
      "metadata": {
        "id": "FOLPKONeawUc"
      },
      "source": [
        "cv_results_full = cross_val_score(estimator=clf,\n",
        "                             X=Data,\n",
        "                             y=target, \n",
        "                             cv=cv_method, \n",
        "                             scoring=scoring_metric)"
      ],
      "execution_count": null,
      "outputs": []
    },
    {
      "cell_type": "code",
      "metadata": {
        "colab": {
          "base_uri": "https://localhost:8080/"
        },
        "id": "wPyYhIqJawUc",
        "scrolled": true,
        "outputId": "0f13fc00-1b22-441d-b800-9e5260bc96cb"
      },
      "source": [
        "cv_results_full"
      ],
      "execution_count": null,
      "outputs": [
        {
          "output_type": "execute_result",
          "data": {
            "text/plain": [
              "array([0.70714286, 0.70714286, 0.71428571, 0.69642857, 0.68928571,\n",
              "       0.70714286, 0.725     , 0.725     , 0.75357143, 0.71785714,\n",
              "       0.75357143, 0.725     , 0.68928571, 0.76071429, 0.81428571])"
            ]
          },
          "metadata": {
            "tags": []
          },
          "execution_count": 20
        }
      ]
    },
    {
      "cell_type": "code",
      "metadata": {
        "colab": {
          "base_uri": "https://localhost:8080/"
        },
        "id": "DKxOgvy_awUc",
        "outputId": "e941ee44-9f3d-4340-df5d-e503f59c7177"
      },
      "source": [
        "cv_results_full.mean().round(3)"
      ],
      "execution_count": null,
      "outputs": [
        {
          "output_type": "execute_result",
          "data": {
            "text/plain": [
              "0.726"
            ]
          },
          "metadata": {
            "tags": []
          },
          "execution_count": 21
        }
      ]
    },
    {
      "cell_type": "code",
      "metadata": {
        "id": "VRkvR3izawUc"
      },
      "source": [
        "num_features = 5"
      ],
      "execution_count": null,
      "outputs": []
    },
    {
      "cell_type": "markdown",
      "metadata": {
        "id": "fIFk5a2lejXU"
      },
      "source": [
        "### F-Score"
      ]
    },
    {
      "cell_type": "code",
      "metadata": {
        "colab": {
          "base_uri": "https://localhost:8080/"
        },
        "id": "lllB4rsqawUc",
        "outputId": "47304410-a29d-4e80-d720-b2e6b21d04a1"
      },
      "source": [
        "fs_fit_fscore = fs.SelectKBest(fs.f_classif, k=num_features)\n",
        "fs_fit_fscore.fit_transform(Data, target)\n",
        "fs_indices_fscore = np.argsort(np.nan_to_num(fs_fit_fscore.scores_))[::-1][0:num_features]\n",
        "fs_indices_fscore"
      ],
      "execution_count": null,
      "outputs": [
        {
          "output_type": "execute_result",
          "data": {
            "text/plain": [
              "array([10,  1,  4,  7, 12])"
            ]
          },
          "metadata": {
            "tags": []
          },
          "execution_count": 23
        }
      ]
    },
    {
      "cell_type": "code",
      "metadata": {
        "colab": {
          "base_uri": "https://localhost:8080/"
        },
        "id": "1lJlWal0awUd",
        "outputId": "a0252ac3-db0c-4ad1-bc50-780370e8e1cd"
      },
      "source": [
        "best_features_fscore = Data3.columns[fs_indices_fscore].values\n",
        "best_features_fscore"
      ],
      "execution_count": null,
      "outputs": [
        {
          "output_type": "execute_result",
          "data": {
            "text/plain": [
              "array(['DeviceProtection', 'SeniorCitizen', 'tenure', 'InternetService',\n",
              "       'StreamingTV'], dtype=object)"
            ]
          },
          "metadata": {
            "tags": []
          },
          "execution_count": 24
        }
      ]
    },
    {
      "cell_type": "code",
      "metadata": {
        "colab": {
          "base_uri": "https://localhost:8080/"
        },
        "id": "OZF5HZ0SawUd",
        "outputId": "4e62ea47-d7b5-4ea9-f38f-d83cbb19c06a"
      },
      "source": [
        "feature_importances_fscore = fs_fit_fscore.scores_[fs_indices_fscore]\n",
        "feature_importances_fscore"
      ],
      "execution_count": null,
      "outputs": [
        {
          "output_type": "execute_result",
          "data": {
            "text/plain": [
              "array([225.87299355, 143.86812413, 139.13209918,  72.04011174,\n",
              "        48.4735121 ])"
            ]
          },
          "metadata": {
            "tags": []
          },
          "execution_count": 25
        }
      ]
    },
    {
      "cell_type": "code",
      "metadata": {
        "id": "WoLreYOOawUd"
      },
      "source": [
        "import matplotlib.pyplot as plt\n",
        "%matplotlib inline \n",
        "%config InlineBackend.figure_format = 'retina'\n",
        "plt.style.use(\"ggplot\")\n",
        "\n",
        "def plot_imp(best_features, scores, method_name):   \n",
        "    plt.barh(best_features, scores)\n",
        "    plt.title(method_name + ' Feature Importances')\n",
        "    plt.xlabel(\"Importance\")\n",
        "    plt.ylabel(\"Features\")\n",
        "    plt.show()\n",
        "    \n",
        "\n"
      ],
      "execution_count": null,
      "outputs": []
    },
    {
      "cell_type": "code",
      "metadata": {
        "colab": {
          "base_uri": "https://localhost:8080/",
          "height": 298
        },
        "id": "U79f362tawUd",
        "outputId": "63e410a8-e8d4-430d-af9c-a0ac7dc00f84"
      },
      "source": [
        "plot_imp(best_features_fscore, feature_importances_fscore, 'F-Score')"
      ],
      "execution_count": null,
      "outputs": [
        {
          "output_type": "display_data",
          "data": {
            "image/png": "[encoded data removed]",
            "text/plain": [
              "<Figure size 432x288 with 1 Axes>"
            ]
          },
          "metadata": {
            "tags": [],
            "image/png": {
              "width": 457,
              "height": 281
            }
          }
        }
      ]
    },
    {
      "cell_type": "code",
      "metadata": {
        "colab": {
          "base_uri": "https://localhost:8080/"
        },
        "id": "bifNiUFHawUe",
        "outputId": "629061b7-94ac-4436-9712-572ddbd4bccb"
      },
      "source": [
        "Data[:, fs_indices_fscore].shape"
      ],
      "execution_count": null,
      "outputs": [
        {
          "output_type": "execute_result",
          "data": {
            "text/plain": [
              "(1400, 5)"
            ]
          },
          "metadata": {
            "tags": []
          },
          "execution_count": 28
        }
      ]
    },
    {
      "cell_type": "code",
      "metadata": {
        "colab": {
          "base_uri": "https://localhost:8080/"
        },
        "id": "ZMratom7awUe",
        "outputId": "38d659fd-8499-4650-8b5e-acc5dd0cb8a7"
      },
      "source": [
        "cv_results_fscore = cross_val_score(estimator=clf,\n",
        "                             X=Data[:, fs_indices_fscore],\n",
        "                             y=target, \n",
        "                             cv=cv_method, \n",
        "                             scoring=scoring_metric)\n",
        "cv_results_fscore.mean().round(3)"
      ],
      "execution_count": null,
      "outputs": [
        {
          "output_type": "execute_result",
          "data": {
            "text/plain": [
              "0.716"
            ]
          },
          "metadata": {
            "tags": []
          },
          "execution_count": 29
        }
      ]
    },
    {
      "cell_type": "markdown",
      "metadata": {
        "id": "Mtav7b_EeUpb"
      },
      "source": [
        "### Mutual Information"
      ]
    },
    {
      "cell_type": "code",
      "metadata": {
        "colab": {
          "base_uri": "https://localhost:8080/"
        },
        "id": "JABpHU4xawUe",
        "outputId": "5cffe984-f41d-44ed-b56c-732156fc72b4"
      },
      "source": [
        "fs_fit_mutual_info = fs.SelectKBest(fs.mutual_info_classif, k=num_features)\n",
        "fs_fit_mutual_info.fit_transform(Data, target)\n",
        "fs_indices_mutual_info = np.argsort(fs_fit_mutual_info.scores_)[::-1][0:num_features]\n",
        "best_features_mutual_info = Data3.columns[fs_indices_mutual_info].values\n",
        "best_features_mutual_info"
      ],
      "execution_count": null,
      "outputs": [
        {
          "output_type": "execute_result",
          "data": {
            "text/plain": [
              "array(['DeviceProtection', 'SeniorCitizen', 'tenure', 'StreamingMovies',\n",
              "       'MultipleLines'], dtype=object)"
            ]
          },
          "metadata": {
            "tags": []
          },
          "execution_count": 30
        }
      ]
    },
    {
      "cell_type": "code",
      "metadata": {
        "colab": {
          "base_uri": "https://localhost:8080/"
        },
        "id": "w26x4-8VawUe",
        "outputId": "1ed91635-4c55-40a4-aebe-8836614ed40f"
      },
      "source": [
        "feature_importances_mutual_info = fs_fit_mutual_info.scores_[fs_indices_mutual_info]\n",
        "feature_importances_mutual_info"
      ],
      "execution_count": null,
      "outputs": [
        {
          "output_type": "execute_result",
          "data": {
            "text/plain": [
              "array([0.1094405 , 0.07458282, 0.07076606, 0.04906222, 0.04846552])"
            ]
          },
          "metadata": {
            "tags": []
          },
          "execution_count": 31
        }
      ]
    },
    {
      "cell_type": "code",
      "metadata": {
        "colab": {
          "base_uri": "https://localhost:8080/",
          "height": 298
        },
        "id": "8_ly430uawUf",
        "outputId": "78ecc583-e331-4d02-9e1a-11aa63af6f8f"
      },
      "source": [
        "plot_imp(best_features_mutual_info, feature_importances_mutual_info, 'Mutual Information')"
      ],
      "execution_count": null,
      "outputs": [
        {
          "output_type": "display_data",
          "data": {
            "image/png": "[encoded data removed]",
            "text/plain": [
              "<Figure size 432x288 with 1 Axes>"
            ]
          },
          "metadata": {
            "tags": [],
            "image/png": {
              "width": 459,
              "height": 281
            }
          }
        }
      ]
    },
    {
      "cell_type": "code",
      "metadata": {
        "colab": {
          "base_uri": "https://localhost:8080/"
        },
        "id": "Iv_rMN7pawUf",
        "outputId": "88907767-8b32-41a9-9e08-8b3539815c61"
      },
      "source": [
        "cv_results_mutual_info = cross_val_score(estimator=clf,\n",
        "                             X=Data[:, fs_indices_mutual_info],\n",
        "                             y=target, \n",
        "                             cv=cv_method, \n",
        "                             scoring=scoring_metric)\n",
        "cv_results_mutual_info.mean().round(3)"
      ],
      "execution_count": null,
      "outputs": [
        {
          "output_type": "execute_result",
          "data": {
            "text/plain": [
              "0.73"
            ]
          },
          "metadata": {
            "tags": []
          },
          "execution_count": 33
        }
      ]
    },
    {
      "cell_type": "markdown",
      "metadata": {
        "id": "v8Xur1jLev9g"
      },
      "source": [
        "### Random Forest"
      ]
    },
    {
      "cell_type": "code",
      "metadata": {
        "id": "NeND2ODcawUf"
      },
      "source": [
        "model_rfi = RandomForestClassifier(n_estimators=100)\n",
        "model_rfi.fit(Data, target)\n",
        "fs_indices_rfi = np.argsort(model_rfi.feature_importances_)[::-1][0:num_features]"
      ],
      "execution_count": null,
      "outputs": []
    },
    {
      "cell_type": "code",
      "metadata": {
        "colab": {
          "base_uri": "https://localhost:8080/"
        },
        "id": "D7jqm-QwawUf",
        "outputId": "657f4362-1079-4c1e-c2c7-5de277565eb2"
      },
      "source": [
        "best_features_rfi = Data3.columns[fs_indices_rfi].values\n",
        "best_features_rfi"
      ],
      "execution_count": null,
      "outputs": [
        {
          "output_type": "execute_result",
          "data": {
            "text/plain": [
              "array(['StreamingMovies', 'StreamingTV', 'SeniorCitizen',\n",
              "       'DeviceProtection', 'tenure'], dtype=object)"
            ]
          },
          "metadata": {
            "tags": []
          },
          "execution_count": 35
        }
      ]
    },
    {
      "cell_type": "code",
      "metadata": {
        "colab": {
          "base_uri": "https://localhost:8080/"
        },
        "id": "DmLoiuQ3awUf",
        "outputId": "c80ea280-d883-4e44-ea4a-38a4735c0be2"
      },
      "source": [
        "feature_importances_rfi = model_rfi.feature_importances_[fs_indices_rfi]\n",
        "feature_importances_rfi"
      ],
      "execution_count": null,
      "outputs": [
        {
          "output_type": "execute_result",
          "data": {
            "text/plain": [
              "array([0.19029179, 0.16890633, 0.14644414, 0.07411214, 0.05678656])"
            ]
          },
          "metadata": {
            "tags": []
          },
          "execution_count": 36
        }
      ]
    },
    {
      "cell_type": "code",
      "metadata": {
        "colab": {
          "base_uri": "https://localhost:8080/",
          "height": 298
        },
        "id": "zA9NcwahawUg",
        "outputId": "3342e0d6-939c-46db-cc39-7616e28e7410"
      },
      "source": [
        "plot_imp(best_features_rfi, feature_importances_rfi, 'Random Forest')"
      ],
      "execution_count": null,
      "outputs": [
        {
          "output_type": "display_data",
          "data": {
            "image/png": "[encoded data removed]",
            "text/plain": [
              "<Figure size 432x288 with 1 Axes>"
            ]
          },
          "metadata": {
            "tags": [],
            "image/png": {
              "width": 459,
              "height": 281
            }
          }
        }
      ]
    },
    {
      "cell_type": "code",
      "metadata": {
        "colab": {
          "base_uri": "https://localhost:8080/"
        },
        "id": "v1Lxkh0DawUg",
        "outputId": "f041fc80-372e-4cec-ac87-4f3a38f432bc"
      },
      "source": [
        "cv_results_rfi = cross_val_score(estimator=clf,\n",
        "                             X=Data[:, fs_indices_rfi],\n",
        "                             y=target, \n",
        "                             cv=cv_method, \n",
        "                             scoring=scoring_metric)\n",
        "cv_results_rfi.mean().round(3)"
      ],
      "execution_count": null,
      "outputs": [
        {
          "output_type": "execute_result",
          "data": {
            "text/plain": [
              "0.72"
            ]
          },
          "metadata": {
            "tags": []
          },
          "execution_count": 38
        }
      ]
    },
    {
      "cell_type": "markdown",
      "metadata": {
        "id": "x-xUBOcpeN7P"
      },
      "source": [
        "### SPSA"
      ]
    },
    {
      "cell_type": "code",
      "metadata": {
        "id": "mf-UEgQNawUg"
      },
      "source": [
        "from spFSR import SpFSR\n",
        "\n",
        "# set the engine parameters\n",
        "# pred_type needs to be 'c' for classification and 'r' for regression datasets\n",
        "sp_engine = SpFSR(x=Data, y=target, pred_type='c', wrapper=clf, scoring='accuracy')"
      ],
      "execution_count": null,
      "outputs": []
    },
    {
      "cell_type": "code",
      "metadata": {
        "colab": {
          "base_uri": "https://localhost:8080/"
        },
        "id": "MvCxT1XYawUg",
        "outputId": "8731f6f7-68d1-4029-d266-84e755c8e354"
      },
      "source": [
        "np.random.seed(999)\n",
        "sp_output = sp_engine.run(num_features=num_features).results"
      ],
      "execution_count": null,
      "outputs": [
        {
          "output_type": "stream",
          "text": [
            "SpFSR-INFO: Wrapper: DecisionTreeClassifier(ccp_alpha=0.0, class_weight=None, criterion='gini',\n",
            "                       max_depth=None, max_features=None, max_leaf_nodes=None,\n",
            "                       min_impurity_decrease=0.0, min_impurity_split=None,\n",
            "                       min_samples_leaf=1, min_samples_split=2,\n",
            "                       min_weight_fraction_leaf=0.0, presort='deprecated',\n",
            "                       random_state=999, splitter='best')\n",
            "SpFSR-INFO: Hot start: True\n",
            "SpFSR-INFO: Hot start range: 0.2\n",
            "SpFSR-INFO: Feature weighting: False\n",
            "SpFSR-INFO: Scoring metric: accuracy\n",
            "SpFSR-INFO: Number of jobs: 1\n",
            "SpFSR-INFO: Number of observations in the dataset: 1400\n",
            "SpFSR-INFO: Number of observations used: 1400\n",
            "SpFSR-INFO: Number of features available: 19\n",
            "SpFSR-INFO: Number of features to select: 5\n",
            "SpFSR-INFO: iter_no: 0, num_ft: 5, value: 0.711, st_dev: 0.022, best: 0.711 @ iter_no 0\n",
            "SpFSR-INFO: iter_no: 10, num_ft: 5, value: 0.737, st_dev: 0.021, best: 0.737 @ iter_no 10\n",
            "SpFSR-INFO: ===> iter_no: 18, same feature stall limit reached, initializing search...\n",
            "SpFSR-INFO: iter_no: 20, num_ft: 5, value: 0.721, st_dev: 0.021, best: 0.739 @ iter_no 18\n",
            "SpFSR-INFO: iter_no: 30, num_ft: 5, value: 0.716, st_dev: 0.021, best: 0.739 @ iter_no 18\n",
            "SpFSR-INFO: ===> iter_no: 33, same feature stall limit reached, initializing search...\n",
            "SpFSR-INFO: iter_no: 40, num_ft: 5, value: 0.774, st_dev: 0.018, best: 0.774 @ iter_no 40\n",
            "SpFSR-INFO: ===> iter_no: 43, same feature stall limit reached, initializing search...\n",
            "SpFSR-INFO: iter_no: 50, num_ft: 5, value: 0.714, st_dev: 0.021, best: 0.775 @ iter_no 42\n",
            "SpFSR-INFO: ===> iter_no: 55, same feature stall limit reached, initializing search...\n",
            "SpFSR-INFO: iter_no: 60, num_ft: 5, value: 0.727, st_dev: 0.021, best: 0.775 @ iter_no 42\n",
            "SpFSR-INFO: ===> iter_no: 64, same feature stall limit reached, initializing search...\n",
            "SpFSR-INFO: iter_no: 70, num_ft: 5, value: 0.719, st_dev: 0.021, best: 0.775 @ iter_no 42\n",
            "SpFSR-INFO: ===> iter_no: 76, same feature stall limit reached, initializing search...\n",
            "SpFSR-INFO: iter_no: 80, num_ft: 5, value: 0.709, st_dev: 0.021, best: 0.775 @ iter_no 42\n",
            "SpFSR-INFO: iter_no: 90, num_ft: 5, value: 0.714, st_dev: 0.016, best: 0.775 @ iter_no 42\n",
            "SpFSR-INFO: ===> iter_no: 91, same feature stall limit reached, initializing search...\n",
            "SpFSR-INFO: ===> iter_no: 98, same feature stall limit reached, initializing search...\n",
            "SpFSR-INFO: iter_no: 100, num_ft: 5, value: 0.726, st_dev: 0.034, best: 0.775 @ iter_no 42\n",
            "SpFSR-INFO: SpFSR completed in 0.41 minutes.\n",
            "SpFSR-INFO: Best value = 0.775 with 5 features and 100 total iterations.\n",
            "\n"
          ],
          "name": "stderr"
        }
      ]
    },
    {
      "cell_type": "code",
      "metadata": {
        "colab": {
          "base_uri": "https://localhost:8080/"
        },
        "id": "_DREyAr6awUh",
        "outputId": "9126ec3d-f309-4c5d-dbaf-416274e945fb"
      },
      "source": [
        "fs_indices_spsa = sp_output.get('selected_features')\n",
        "fs_indices_spsa"
      ],
      "execution_count": null,
      "outputs": [
        {
          "output_type": "execute_result",
          "data": {
            "text/plain": [
              "[3, 10, 4, 16, 11]"
            ]
          },
          "metadata": {
            "tags": []
          },
          "execution_count": 41
        }
      ]
    },
    {
      "cell_type": "code",
      "metadata": {
        "colab": {
          "base_uri": "https://localhost:8080/"
        },
        "id": "pOHmLei3awUh",
        "outputId": "3f902f25-2872-41d2-c9d9-a8e0fa55769e"
      },
      "source": [
        "best_features_spsa = Data3.columns[fs_indices_spsa]\n",
        "best_features_spsa"
      ],
      "execution_count": null,
      "outputs": [
        {
          "output_type": "execute_result",
          "data": {
            "text/plain": [
              "Index(['Dependents', 'DeviceProtection', 'tenure', 'PaymentMethod',\n",
              "       'TechSupport'],\n",
              "      dtype='object')"
            ]
          },
          "metadata": {
            "tags": []
          },
          "execution_count": 42
        }
      ]
    },
    {
      "cell_type": "code",
      "metadata": {
        "colab": {
          "base_uri": "https://localhost:8080/"
        },
        "id": "gXP3ORTlawUh",
        "outputId": "8eeed87c-14f4-476d-a559-ee4f69acc3b2"
      },
      "source": [
        "feature_importances_spsa = sp_output.get('selected_ft_importance')\n",
        "feature_importances_spsa"
      ],
      "execution_count": null,
      "outputs": [
        {
          "output_type": "execute_result",
          "data": {
            "text/plain": [
              "array([0.42046949, 0.39904868, 0.33919278, 0.12041946, 0.02150154])"
            ]
          },
          "metadata": {
            "tags": []
          },
          "execution_count": 43
        }
      ]
    },
    {
      "cell_type": "code",
      "metadata": {
        "colab": {
          "base_uri": "https://localhost:8080/",
          "height": 298
        },
        "id": "RejySaq1awUh",
        "outputId": "9b65d7a7-7193-49ad-c44f-8d5ae5be6dd7"
      },
      "source": [
        "plot_imp(best_features_spsa, feature_importances_spsa, 'SPSA')"
      ],
      "execution_count": null,
      "outputs": [
        {
          "output_type": "display_data",
          "data": {
            "image/png": "[encoded data removed]",
            "text/plain": [
              "<Figure size 432x288 with 1 Axes>"
            ]
          },
          "metadata": {
            "tags": [],
            "image/png": {
              "width": 457,
              "height": 281
            }
          }
        }
      ]
    },
    {
      "cell_type": "code",
      "metadata": {
        "colab": {
          "base_uri": "https://localhost:8080/"
        },
        "id": "O2OvoBmQawUh",
        "outputId": "1f0f2932-99a3-4187-fb06-c1b13ab49c47"
      },
      "source": [
        "cv_results_spsa = cross_val_score(estimator=clf,\n",
        "                             X=Data[:, fs_indices_spsa],\n",
        "                             y=target, \n",
        "                             cv=cv_method, \n",
        "                             scoring=scoring_metric)\n",
        "cv_results_spsa.mean().round(3)"
      ],
      "execution_count": null,
      "outputs": [
        {
          "output_type": "execute_result",
          "data": {
            "text/plain": [
              "0.771"
            ]
          },
          "metadata": {
            "tags": []
          },
          "execution_count": 45
        }
      ]
    },
    {
      "cell_type": "code",
      "metadata": {
        "id": "JvcT1Fjrcd_d"
      },
      "source": [
        "Data = D_test\n",
        "target= t_test"
      ],
      "execution_count": null,
      "outputs": []
    },
    {
      "cell_type": "code",
      "metadata": {
        "colab": {
          "base_uri": "https://localhost:8080/"
        },
        "id": "y43C4bLecfQe",
        "outputId": "3351f4e5-9fd1-4ba6-c63c-694ac3b303dd"
      },
      "source": [
        "cv_results_fscore = cross_val_score(estimator=clf,\n",
        "                             X=Data[:, fs_indices_fscore],\n",
        "                             y=target, \n",
        "                             cv=cv_method, \n",
        "                             scoring=scoring_metric)\n",
        "cv_results_fscore.mean().round(3)"
      ],
      "execution_count": null,
      "outputs": [
        {
          "output_type": "execute_result",
          "data": {
            "text/plain": [
              "0.725"
            ]
          },
          "metadata": {
            "tags": []
          },
          "execution_count": 47
        }
      ]
    },
    {
      "cell_type": "code",
      "metadata": {
        "colab": {
          "base_uri": "https://localhost:8080/"
        },
        "id": "dx4N6FQrciPM",
        "outputId": "27bdaf76-055e-49a4-eea3-376751743ed9"
      },
      "source": [
        "cv_results_mutual_info = cross_val_score(estimator=clf,\n",
        "                             X=Data[:, fs_indices_mutual_info],\n",
        "                             y=target, \n",
        "                             cv=cv_method, \n",
        "                             scoring=scoring_metric)\n",
        "cv_results_mutual_info.mean().round(3)"
      ],
      "execution_count": null,
      "outputs": [
        {
          "output_type": "execute_result",
          "data": {
            "text/plain": [
              "0.721"
            ]
          },
          "metadata": {
            "tags": []
          },
          "execution_count": 48
        }
      ]
    },
    {
      "cell_type": "code",
      "metadata": {
        "colab": {
          "base_uri": "https://localhost:8080/"
        },
        "id": "Dl0SNGtJcmFr",
        "outputId": "4b5ca649-da39-4045-9ca2-982899be7ba2"
      },
      "source": [
        "cv_results_rfi = cross_val_score(estimator=clf,\n",
        "                             X=Data[:, fs_indices_rfi],\n",
        "                             y=target, \n",
        "                             cv=cv_method, \n",
        "                             scoring=scoring_metric)\n",
        "cv_results_rfi.mean().round(3)"
      ],
      "execution_count": null,
      "outputs": [
        {
          "output_type": "execute_result",
          "data": {
            "text/plain": [
              "0.723"
            ]
          },
          "metadata": {
            "tags": []
          },
          "execution_count": 49
        }
      ]
    },
    {
      "cell_type": "code",
      "metadata": {
        "colab": {
          "base_uri": "https://localhost:8080/"
        },
        "id": "zj06Bdswcr2X",
        "outputId": "6caecf9c-99b4-41d8-a445-c3200ed56e59"
      },
      "source": [
        "cv_results_spsa = cross_val_score(estimator=clf,\n",
        "                             X=Data[:, fs_indices_spsa],\n",
        "                             y=target, \n",
        "                             cv=cv_method, \n",
        "                             scoring=scoring_metric)\n",
        "cv_results_spsa.mean().round(3)"
      ],
      "execution_count": null,
      "outputs": [
        {
          "output_type": "execute_result",
          "data": {
            "text/plain": [
              "0.765"
            ]
          },
          "metadata": {
            "tags": []
          },
          "execution_count": 50
        }
      ]
    },
    {
      "cell_type": "code",
      "metadata": {
        "colab": {
          "base_uri": "https://localhost:8080/"
        },
        "id": "0qWWJGYFawUi",
        "outputId": "4c9458b8-f303-4182-9b81-d6d169617d6a"
      },
      "source": [
        "print('Full Set of Features:', cv_results_full.mean().round(3))\n",
        "print('F-Score:', cv_results_fscore.mean().round(3))\n",
        "print('Mutual Information:', cv_results_mutual_info.mean().round(3))\n",
        "print('RFI:', cv_results_rfi.mean().round(3))\n",
        "print('SPSA:', cv_results_spsa.mean().round(3)) "
      ],
      "execution_count": null,
      "outputs": [
        {
          "output_type": "stream",
          "text": [
            "Full Set of Features: 0.726\n",
            "F-Score: 0.725\n",
            "Mutual Information: 0.721\n",
            "RFI: 0.723\n",
            "SPSA: 0.765\n"
          ],
          "name": "stdout"
        }
      ]
    },
    {
      "cell_type": "code",
      "metadata": {
        "colab": {
          "base_uri": "https://localhost:8080/"
        },
        "id": "-cDVzyWtawUi",
        "outputId": "56f6d00a-99ef-46a1-a902-378066f80ab4"
      },
      "source": [
        "from scipy import stats\n",
        "print(stats.ttest_rel(cv_results_spsa, cv_results_fscore).pvalue.round(10))\n",
        "print(stats.ttest_rel(cv_results_spsa, cv_results_mutual_info).pvalue.round(10))\n",
        "print(stats.ttest_rel(cv_results_spsa, cv_results_rfi).pvalue.round(10))"
      ],
      "execution_count": null,
      "outputs": [
        {
          "output_type": "stream",
          "text": [
            "0.0048850769\n",
            "0.0037850239\n",
            "0.0069141976\n"
          ],
          "name": "stdout"
        }
      ]
    },
    {
      "cell_type": "code",
      "metadata": {
        "colab": {
          "base_uri": "https://localhost:8080/"
        },
        "id": "RkCHOvqMawUi",
        "outputId": "7c39e9b0-eb7b-421f-e819-b683a0204d62"
      },
      "source": [
        "stats.ttest_rel(cv_results_spsa, cv_results_full).pvalue.round(10)"
      ],
      "execution_count": null,
      "outputs": [
        {
          "output_type": "execute_result",
          "data": {
            "text/plain": [
              "0.0102171826"
            ]
          },
          "metadata": {
            "tags": []
          },
          "execution_count": 53
        }
      ]
    },
    {
      "cell_type": "markdown",
      "metadata": {
        "id": "9AO_JysCawUi"
      },
      "source": [
        "## Sampling"
      ]
    },
    {
      "cell_type": "code",
      "metadata": {
        "colab": {
          "base_uri": "https://localhost:8080/"
        },
        "id": "Yl8OsklVawUi",
        "scrolled": true,
        "outputId": "3dc12389-49a5-4b94-8903-a886de035059"
      },
      "source": [
        "#change data set to only use top 5 features as determined by SPSFA\n",
        "Data = Data2[:, fs_indices_spsa]\n",
        "target = target2\n",
        "print(D_train.shape)\n",
        "print(D_test.shape)"
      ],
      "execution_count": null,
      "outputs": [
        {
          "output_type": "stream",
          "text": [
            "(1400, 19)\n",
            "(600, 19)\n"
          ],
          "name": "stdout"
        }
      ]
    },
    {
      "cell_type": "code",
      "metadata": {
        "colab": {
          "base_uri": "https://localhost:8080/"
        },
        "id": "yRKvrywQawUj",
        "outputId": "afd92b5d-de65-40ba-fc88-960bf74e9b92"
      },
      "source": [
        "#split data into train and test using a 50:50 split\n",
        "D_train, D_test, t_train, t_test = train_test_split(Data, target, test_size = 0.3, random_state=999)\n",
        "print(D_train.shape, D_test.shape, t_train.shape, t_test.shape)"
      ],
      "execution_count": null,
      "outputs": [
        {
          "output_type": "stream",
          "text": [
            "(1400, 5) (600, 5) (1400, 1) (600, 1)\n"
          ],
          "name": "stdout"
        }
      ]
    },
    {
      "cell_type": "markdown",
      "metadata": {
        "id": "Cr-TYy9jglNg"
      },
      "source": [
        ""
      ]
    },
    {
      "cell_type": "markdown",
      "metadata": {
        "id": "L9QYBaEGgqC2"
      },
      "source": [
        "## Classifiers"
      ]
    },
    {
      "cell_type": "code",
      "metadata": {
        "id": "UPcDOf1d8yPr"
      },
      "source": [
        "from sklearn.model_selection import StratifiedKFold, GridSearchCV\n",
        "\n",
        "cv_method_train = StratifiedKFold(n_splits=5, shuffle=True, random_state=999)"
      ],
      "execution_count": null,
      "outputs": []
    },
    {
      "cell_type": "markdown",
      "metadata": {
        "id": "CAZiOvN28616"
      },
      "source": [
        ""
      ]
    },
    {
      "cell_type": "code",
      "metadata": {
        "id": "dj_Sp4bC87_G"
      },
      "source": [
        "from sklearn.model_selection import RepeatedStratifiedKFold\n",
        "\n",
        "cv_method = RepeatedStratifiedKFold(n_splits=5, \n",
        "                                    n_repeats=3, \n",
        "                                    random_state=999)"
      ],
      "execution_count": null,
      "outputs": []
    },
    {
      "cell_type": "markdown",
      "metadata": {
        "id": "eqaX0ENG5jf-"
      },
      "source": [
        "### KNN"
      ]
    },
    {
      "cell_type": "markdown",
      "metadata": {
        "id": "6yVfYrqg5hQG"
      },
      "source": [
        ""
      ]
    },
    {
      "cell_type": "code",
      "metadata": {
        "id": "8YZ162tV9t92"
      },
      "source": [
        "from sklearn.neighbors import KNeighborsClassifier\n",
        "from sklearn.model_selection import GridSearchCV\n",
        "\n",
        "gs_KNN = GridSearchCV(estimator=KNeighborsClassifier(), \n",
        "                      param_grid=params_KNN, \n",
        "                      cv=cv_method_train,\n",
        "                      verbose=1,\n",
        "                      scoring=scoring_metric)"
      ],
      "execution_count": null,
      "outputs": []
    },
    {
      "cell_type": "code",
      "metadata": {
        "id": "bEj3e08L5tYY"
      },
      "source": [
        "#define the parameter range for n neighbors and p=1 Manhattan p=2 Euclidean\n",
        "\n",
        "params_KNN = {'n_neighbors': [1, 2, 3, 4, 5, 6, 7,8,9,10,15,20], \n",
        "              'p': [1, 2]}"
      ],
      "execution_count": null,
      "outputs": []
    },
    {
      "cell_type": "code",
      "metadata": {
        "colab": {
          "base_uri": "https://localhost:8080/"
        },
        "id": "FNyzbDpi_GHF",
        "outputId": "4a660cbb-b60f-40a7-8f28-52c72cd3441b"
      },
      "source": [
        "#fit the model to train\n",
        "\n",
        "gs_KNN.fit(D_train, t_train);"
      ],
      "execution_count": null,
      "outputs": [
        {
          "output_type": "stream",
          "text": [
            "Fitting 5 folds for each of 24 candidates, totalling 120 fits\n"
          ],
          "name": "stdout"
        },
        {
          "output_type": "stream",
          "text": [
            "[Parallel(n_jobs=1)]: Using backend SequentialBackend with 1 concurrent workers.\n",
            "[Parallel(n_jobs=1)]: Done 120 out of 120 | elapsed:    1.6s finished\n"
          ],
          "name": "stderr"
        }
      ]
    },
    {
      "cell_type": "code",
      "metadata": {
        "colab": {
          "base_uri": "https://localhost:8080/"
        },
        "id": "NB1Ire0v_z6s",
        "outputId": "c34290a1-056b-457a-ff48-2cddef5ad4f1"
      },
      "source": [
        "#choose the best parameters using the Grid search function\n",
        "\n",
        "gs_KNN.best_params_"
      ],
      "execution_count": null,
      "outputs": [
        {
          "output_type": "execute_result",
          "data": {
            "text/plain": [
              "{'n_neighbors': 10, 'p': 1}"
            ]
          },
          "metadata": {
            "tags": []
          },
          "execution_count": 61
        }
      ]
    },
    {
      "cell_type": "code",
      "metadata": {
        "colab": {
          "base_uri": "https://localhost:8080/"
        },
        "id": "MCzzyaK0_5sE",
        "outputId": "cec0248c-0653-4604-8beb-a0174ee73c2c"
      },
      "source": [
        "gs_KNN.best_score_"
      ],
      "execution_count": null,
      "outputs": [
        {
          "output_type": "execute_result",
          "data": {
            "text/plain": [
              "0.7714285714285715"
            ]
          },
          "metadata": {
            "tags": []
          },
          "execution_count": 62
        }
      ]
    },
    {
      "cell_type": "code",
      "metadata": {
        "colab": {
          "base_uri": "https://localhost:8080/"
        },
        "id": "Ao7lcK2P_-XX",
        "outputId": "3afed7aa-9ebe-4292-98c8-a22e46247eb8"
      },
      "source": [
        "gs_KNN.cv_results_['mean_test_score']"
      ],
      "execution_count": null,
      "outputs": [
        {
          "output_type": "execute_result",
          "data": {
            "text/plain": [
              "array([0.71785714, 0.71785714, 0.75285714, 0.75285714, 0.73285714,\n",
              "       0.73285714, 0.74928571, 0.74928571, 0.74928571, 0.75      ,\n",
              "       0.76714286, 0.76714286, 0.75928571, 0.76      , 0.76571429,\n",
              "       0.765     , 0.76285714, 0.76357143, 0.77142857, 0.77142857,\n",
              "       0.76857143, 0.76857143, 0.77      , 0.77      ])"
            ]
          },
          "metadata": {
            "tags": []
          },
          "execution_count": 63
        }
      ]
    },
    {
      "cell_type": "code",
      "metadata": {
        "colab": {
          "base_uri": "https://localhost:8080/",
          "height": 793
        },
        "id": "Rqd4rCwoAlSm",
        "outputId": "64eddd77-cca0-4dae-e716-0ee171d7be21"
      },
      "source": [
        "#displaying in a table all the parameters\n",
        "\n",
        "results_KNN = pd.DataFrame(gs_KNN.cv_results_['params'])\n",
        "results_KNN['test_score'] = gs_KNN.cv_results_['mean_test_score']\n",
        "results_KNN['metric'] = results_KNN['p'].replace([1,2], [\"Manhattan\", \"Euclidean\"])\n",
        "results_KNN"
      ],
      "execution_count": null,
      "outputs": [
        {
          "output_type": "execute_result",
          "data": {
            "text/html": [
              "<div>\n",
              "<style scoped>\n",
              "    .dataframe tbody tr th:only-of-type {\n",
              "        vertical-align: middle;\n",
              "    }\n",
              "\n",
              "    .dataframe tbody tr th {\n",
              "        vertical-align: top;\n",
              "    }\n",
              "\n",
              "    .dataframe thead th {\n",
              "        text-align: right;\n",
              "    }\n",
              "</style>\n",
              "<table border=\"1\" class=\"dataframe\">\n",
              "  <thead>\n",
              "    <tr style=\"text-align: right;\">\n",
              "      <th></th>\n",
              "      <th>n_neighbors</th>\n",
              "      <th>p</th>\n",
              "      <th>test_score</th>\n",
              "      <th>metric</th>\n",
              "    </tr>\n",
              "  </thead>\n",
              "  <tbody>\n",
              "    <tr>\n",
              "      <th>0</th>\n",
              "      <td>1</td>\n",
              "      <td>1</td>\n",
              "      <td>0.717857</td>\n",
              "      <td>Manhattan</td>\n",
              "    </tr>\n",
              "    <tr>\n",
              "      <th>1</th>\n",
              "      <td>1</td>\n",
              "      <td>2</td>\n",
              "      <td>0.717857</td>\n",
              "      <td>Euclidean</td>\n",
              "    </tr>\n",
              "    <tr>\n",
              "      <th>2</th>\n",
              "      <td>2</td>\n",
              "      <td>1</td>\n",
              "      <td>0.752857</td>\n",
              "      <td>Manhattan</td>\n",
              "    </tr>\n",
              "    <tr>\n",
              "      <th>3</th>\n",
              "      <td>2</td>\n",
              "      <td>2</td>\n",
              "      <td>0.752857</td>\n",
              "      <td>Euclidean</td>\n",
              "    </tr>\n",
              "    <tr>\n",
              "      <th>4</th>\n",
              "      <td>3</td>\n",
              "      <td>1</td>\n",
              "      <td>0.732857</td>\n",
              "      <td>Manhattan</td>\n",
              "    </tr>\n",
              "    <tr>\n",
              "      <th>5</th>\n",
              "      <td>3</td>\n",
              "      <td>2</td>\n",
              "      <td>0.732857</td>\n",
              "      <td>Euclidean</td>\n",
              "    </tr>\n",
              "    <tr>\n",
              "      <th>6</th>\n",
              "      <td>4</td>\n",
              "      <td>1</td>\n",
              "      <td>0.749286</td>\n",
              "      <td>Manhattan</td>\n",
              "    </tr>\n",
              "    <tr>\n",
              "      <th>7</th>\n",
              "      <td>4</td>\n",
              "      <td>2</td>\n",
              "      <td>0.749286</td>\n",
              "      <td>Euclidean</td>\n",
              "    </tr>\n",
              "    <tr>\n",
              "      <th>8</th>\n",
              "      <td>5</td>\n",
              "      <td>1</td>\n",
              "      <td>0.749286</td>\n",
              "      <td>Manhattan</td>\n",
              "    </tr>\n",
              "    <tr>\n",
              "      <th>9</th>\n",
              "      <td>5</td>\n",
              "      <td>2</td>\n",
              "      <td>0.750000</td>\n",
              "      <td>Euclidean</td>\n",
              "    </tr>\n",
              "    <tr>\n",
              "      <th>10</th>\n",
              "      <td>6</td>\n",
              "      <td>1</td>\n",
              "      <td>0.767143</td>\n",
              "      <td>Manhattan</td>\n",
              "    </tr>\n",
              "    <tr>\n",
              "      <th>11</th>\n",
              "      <td>6</td>\n",
              "      <td>2</td>\n",
              "      <td>0.767143</td>\n",
              "      <td>Euclidean</td>\n",
              "    </tr>\n",
              "    <tr>\n",
              "      <th>12</th>\n",
              "      <td>7</td>\n",
              "      <td>1</td>\n",
              "      <td>0.759286</td>\n",
              "      <td>Manhattan</td>\n",
              "    </tr>\n",
              "    <tr>\n",
              "      <th>13</th>\n",
              "      <td>7</td>\n",
              "      <td>2</td>\n",
              "      <td>0.760000</td>\n",
              "      <td>Euclidean</td>\n",
              "    </tr>\n",
              "    <tr>\n",
              "      <th>14</th>\n",
              "      <td>8</td>\n",
              "      <td>1</td>\n",
              "      <td>0.765714</td>\n",
              "      <td>Manhattan</td>\n",
              "    </tr>\n",
              "    <tr>\n",
              "      <th>15</th>\n",
              "      <td>8</td>\n",
              "      <td>2</td>\n",
              "      <td>0.765000</td>\n",
              "      <td>Euclidean</td>\n",
              "    </tr>\n",
              "    <tr>\n",
              "      <th>16</th>\n",
              "      <td>9</td>\n",
              "      <td>1</td>\n",
              "      <td>0.762857</td>\n",
              "      <td>Manhattan</td>\n",
              "    </tr>\n",
              "    <tr>\n",
              "      <th>17</th>\n",
              "      <td>9</td>\n",
              "      <td>2</td>\n",
              "      <td>0.763571</td>\n",
              "      <td>Euclidean</td>\n",
              "    </tr>\n",
              "    <tr>\n",
              "      <th>18</th>\n",
              "      <td>10</td>\n",
              "      <td>1</td>\n",
              "      <td>0.771429</td>\n",
              "      <td>Manhattan</td>\n",
              "    </tr>\n",
              "    <tr>\n",
              "      <th>19</th>\n",
              "      <td>10</td>\n",
              "      <td>2</td>\n",
              "      <td>0.771429</td>\n",
              "      <td>Euclidean</td>\n",
              "    </tr>\n",
              "    <tr>\n",
              "      <th>20</th>\n",
              "      <td>15</td>\n",
              "      <td>1</td>\n",
              "      <td>0.768571</td>\n",
              "      <td>Manhattan</td>\n",
              "    </tr>\n",
              "    <tr>\n",
              "      <th>21</th>\n",
              "      <td>15</td>\n",
              "      <td>2</td>\n",
              "      <td>0.768571</td>\n",
              "      <td>Euclidean</td>\n",
              "    </tr>\n",
              "    <tr>\n",
              "      <th>22</th>\n",
              "      <td>20</td>\n",
              "      <td>1</td>\n",
              "      <td>0.770000</td>\n",
              "      <td>Manhattan</td>\n",
              "    </tr>\n",
              "    <tr>\n",
              "      <th>23</th>\n",
              "      <td>20</td>\n",
              "      <td>2</td>\n",
              "      <td>0.770000</td>\n",
              "      <td>Euclidean</td>\n",
              "    </tr>\n",
              "  </tbody>\n",
              "</table>\n",
              "</div>"
            ],
            "text/plain": [
              "    n_neighbors  p  test_score     metric\n",
              "0             1  1    0.717857  Manhattan\n",
              "1             1  2    0.717857  Euclidean\n",
              "2             2  1    0.752857  Manhattan\n",
              "3             2  2    0.752857  Euclidean\n",
              "4             3  1    0.732857  Manhattan\n",
              "5             3  2    0.732857  Euclidean\n",
              "6             4  1    0.749286  Manhattan\n",
              "7             4  2    0.749286  Euclidean\n",
              "8             5  1    0.749286  Manhattan\n",
              "9             5  2    0.750000  Euclidean\n",
              "10            6  1    0.767143  Manhattan\n",
              "11            6  2    0.767143  Euclidean\n",
              "12            7  1    0.759286  Manhattan\n",
              "13            7  2    0.760000  Euclidean\n",
              "14            8  1    0.765714  Manhattan\n",
              "15            8  2    0.765000  Euclidean\n",
              "16            9  1    0.762857  Manhattan\n",
              "17            9  2    0.763571  Euclidean\n",
              "18           10  1    0.771429  Manhattan\n",
              "19           10  2    0.771429  Euclidean\n",
              "20           15  1    0.768571  Manhattan\n",
              "21           15  2    0.768571  Euclidean\n",
              "22           20  1    0.770000  Manhattan\n",
              "23           20  2    0.770000  Euclidean"
            ]
          },
          "metadata": {
            "tags": []
          },
          "execution_count": 64
        }
      ]
    },
    {
      "cell_type": "code",
      "metadata": {
        "colab": {
          "base_uri": "https://localhost:8080/",
          "height": 298
        },
        "id": "rhbXLa1xA5Ey",
        "outputId": "16e31fd2-be8e-48ee-eae6-66a2d5f4445f"
      },
      "source": [
        "#graph with hyperparameters\n",
        "\n",
        "for i in [\"Manhattan\", \"Euclidean\"]:\n",
        "    temp = results_KNN[results_KNN['metric'] == i]\n",
        "    plt.plot(temp['n_neighbors'], temp['test_score'], marker = '.', label = i)\n",
        "    \n",
        "plt.legend()\n",
        "plt.xlabel('Number of Neighbors')\n",
        "plt.ylabel(\"Mean CV Score\")\n",
        "plt.title(\"KNN Performance Comparison\")\n",
        "plt.show()"
      ],
      "execution_count": null,
      "outputs": [
        {
          "output_type": "display_data",
          "data": {
            "image/png": "[encoded data removed]",
            "text/plain": [
              "<Figure size 432x288 with 1 Axes>"
            ]
          },
          "metadata": {
            "tags": [],
            "image/png": {
              "width": 394,
              "height": 281
            }
          }
        }
      ]
    },
    {
      "cell_type": "markdown",
      "metadata": {
        "id": "EQCJsFjWE-2p"
      },
      "source": [
        "The parameters used for hypertuning were Euclidean and manhattan distance and the number of neighbors.\n",
        "\n",
        "By visualizaton we see that the nearest 10 neighbors using the Manhattan distance stand out and perform better than any other possible combination"
      ]
    },
    {
      "cell_type": "code",
      "metadata": {
        "colab": {
          "base_uri": "https://localhost:8080/"
        },
        "id": "uJhl8RYeBNs5",
        "outputId": "16d16c86-de0b-4fa7-aac5-7d3f1778d04e"
      },
      "source": [
        "##predicts the response of KNN\n",
        "k_pred = gs_KNN.predict(D_test)\n",
        "\n",
        "print(\"Accuracy of KNN:\",metrics.accuracy_score(t_test, k_pred))"
      ],
      "execution_count": null,
      "outputs": [
        {
          "output_type": "stream",
          "text": [
            "Accuracy of KNN: 0.71\n"
          ],
          "name": "stdout"
        }
      ]
    },
    {
      "cell_type": "markdown",
      "metadata": {
        "id": "5K7zykJBhtxv"
      },
      "source": [
        "### Decision Tree"
      ]
    },
    {
      "cell_type": "code",
      "metadata": {
        "id": "1WujD8hSB0JC"
      },
      "source": [
        "#import the decision tree classifier\n",
        "\n",
        "from sklearn.tree import DecisionTreeClassifier\n",
        "\n",
        "df_classifier = DecisionTreeClassifier(random_state=999)"
      ],
      "execution_count": null,
      "outputs": []
    },
    {
      "cell_type": "code",
      "metadata": {
        "id": "1vswTi5mB5RH"
      },
      "source": [
        "#define the parameter range for the decision tree\n",
        "\n",
        "params_DT = {'criterion': ['gini', 'entropy'],\n",
        "             'max_depth': [1, 2, 3, 4, 5, 6, 7, 8,9,10,15,20],\n",
        "             'min_samples_split': [2, 3,5]}"
      ],
      "execution_count": null,
      "outputs": []
    },
    {
      "cell_type": "code",
      "metadata": {
        "id": "EmoR20qXB-Ba"
      },
      "source": [
        "#Gridsecarch to exclusively search through the best combinations\n",
        "\n",
        "\n",
        "gs_DT = GridSearchCV(estimator=df_classifier, \n",
        "                     param_grid=params_DT, \n",
        "                     cv=cv_method,\n",
        "                     verbose=1, \n",
        "                     scoring='accuracy')"
      ],
      "execution_count": null,
      "outputs": []
    },
    {
      "cell_type": "code",
      "metadata": {
        "colab": {
          "base_uri": "https://localhost:8080/"
        },
        "id": "HFP7ahFOCB0P",
        "outputId": "8104312c-33cf-474e-e480-feee04cf40d4"
      },
      "source": [
        "#fit the model to train\n",
        "\n",
        "gs_DT.fit(D_train, t_train);"
      ],
      "execution_count": null,
      "outputs": [
        {
          "output_type": "stream",
          "text": [
            "Fitting 15 folds for each of 72 candidates, totalling 1080 fits\n"
          ],
          "name": "stdout"
        },
        {
          "output_type": "stream",
          "text": [
            "[Parallel(n_jobs=1)]: Using backend SequentialBackend with 1 concurrent workers.\n",
            "[Parallel(n_jobs=1)]: Done 1080 out of 1080 | elapsed:    2.9s finished\n"
          ],
          "name": "stderr"
        }
      ]
    },
    {
      "cell_type": "code",
      "metadata": {
        "colab": {
          "base_uri": "https://localhost:8080/"
        },
        "id": "4k6TNwQ8COGv",
        "outputId": "4fa2f2f8-75fd-4b01-ca44-f23b5c8d873a"
      },
      "source": [
        "#choose the best parameters using the Grid search function\n",
        "\n",
        "gs_DT.best_params_"
      ],
      "execution_count": null,
      "outputs": [
        {
          "output_type": "execute_result",
          "data": {
            "text/plain": [
              "{'criterion': 'gini', 'max_depth': 4, 'min_samples_split': 2}"
            ]
          },
          "metadata": {
            "tags": []
          },
          "execution_count": 71
        }
      ]
    },
    {
      "cell_type": "code",
      "metadata": {
        "colab": {
          "base_uri": "https://localhost:8080/"
        },
        "id": "HgOBKeVhCTYe",
        "outputId": "3ee433a1-07f8-404e-ea53-73bc09c790f3"
      },
      "source": [
        "gs_DT.best_score_"
      ],
      "execution_count": null,
      "outputs": [
        {
          "output_type": "execute_result",
          "data": {
            "text/plain": [
              "0.7826190476190477"
            ]
          },
          "metadata": {
            "tags": []
          },
          "execution_count": 72
        }
      ]
    },
    {
      "cell_type": "code",
      "metadata": {
        "colab": {
          "base_uri": "https://localhost:8080/"
        },
        "id": "-etPsc4tCX4Q",
        "outputId": "c21668fd-64f4-4810-b631-8b6ed32c7e92"
      },
      "source": [
        "results_DT = pd.DataFrame(gs_DT.cv_results_['params'])\n",
        "results_DT['test_score'] = gs_DT.cv_results_['mean_test_score']\n",
        "results_DT.columns"
      ],
      "execution_count": null,
      "outputs": [
        {
          "output_type": "execute_result",
          "data": {
            "text/plain": [
              "Index(['criterion', 'max_depth', 'min_samples_split', 'test_score'], dtype='object')"
            ]
          },
          "metadata": {
            "tags": []
          },
          "execution_count": 73
        }
      ]
    },
    {
      "cell_type": "code",
      "metadata": {
        "colab": {
          "base_uri": "https://localhost:8080/",
          "height": 298
        },
        "id": "FUF35DIACfOW",
        "outputId": "9f692f58-ed5a-4d48-9760-6eb029f412f9"
      },
      "source": [
        "#graph with hyperparameter tuning\n",
        "\n",
        "for i in [2, 3, 5]:\n",
        "    temp = results_DT[results_DT['min_samples_split'] == i]\n",
        "    temp_average = temp.groupby('max_depth').agg({'test_score': 'mean'})\n",
        "    plt.plot(temp_average, marker = '.', label = 'min sample split: ' + str(i))\n",
        "    \n",
        "    \n",
        "plt.legend()\n",
        "plt.xlabel('Max Depth')\n",
        "plt.ylabel(\"Mean CV Score\")\n",
        "plt.title(\"DT Performance Comparison\")\n",
        "plt.show()"
      ],
      "execution_count": null,
      "outputs": [
        {
          "output_type": "display_data",
          "data": {
            "image/png": "[encoded data removed]",
            "text/plain": [
              "<Figure size 432x288 with 1 Axes>"
            ]
          },
          "metadata": {
            "tags": [],
            "image/png": {
              "width": 400,
              "height": 281
            }
          }
        }
      ]
    },
    {
      "cell_type": "markdown",
      "metadata": {
        "id": "ie53Nz8cGFgs"
      },
      "source": [
        ""
      ]
    },
    {
      "cell_type": "markdown",
      "metadata": {
        "id": "9hWDnhopEWqp"
      },
      "source": [
        "The parameters used for hypertuning were criterion(gini or entopy, max_depth of the tree and minimum sample split\n",
        "\n",
        "By visualizaton we see that criterion:gini and the tree with a maximum depth of 4 and min_sample split=2 and perform better than any other possible combination\n",
        "\n"
      ]
    },
    {
      "cell_type": "code",
      "metadata": {
        "colab": {
          "base_uri": "https://localhost:8080/"
        },
        "id": "_-GIXPecCykZ",
        "outputId": "e4af600e-5de4-4140-fee1-69a824f1f959"
      },
      "source": [
        "#predicts the response of DT \n",
        "dt_pred = gs_DT.predict(D_test)\n",
        "\n",
        "print(\"Accuracy of Decision trees:\",metrics.accuracy_score(t_test, dt_pred))"
      ],
      "execution_count": null,
      "outputs": [
        {
          "output_type": "stream",
          "text": [
            "Accuracy of Decision trees: 0.765\n"
          ],
          "name": "stdout"
        }
      ]
    },
    {
      "cell_type": "markdown",
      "metadata": {
        "id": "dVRozqhYEVeN"
      },
      "source": [
        ""
      ]
    },
    {
      "cell_type": "markdown",
      "metadata": {
        "id": "4V3omVfbawUj"
      },
      "source": [
        "### Naive Bayes"
      ]
    },
    {
      "cell_type": "code",
      "metadata": {
        "colab": {
          "base_uri": "https://localhost:8080/"
        },
        "id": "tdA2YQ0HawUj",
        "outputId": "32719e58-c34c-4b89-e0e8-890b5038813c"
      },
      "source": [
        "from sklearn.metrics import classification_report\n",
        "\n",
        "#import Naive Bayes (NB) model\n",
        "from sklearn.naive_bayes import GaussianNB\n",
        "\n",
        "#create NB classifier\n",
        "clf_NB = GaussianNB(var_smoothing=10**(-3))\n",
        "\n",
        "#train the model\n",
        "clf_NB.fit(D_train, t_train)\n",
        "\n",
        "#predict the response for test dataset\n",
        "NB_pred = clf_NB.predict(D_test)\n",
        "\n",
        "#print NB model accuracy\n",
        "print(\"Naive Bayes accuracy:\",metrics.accuracy_score(t_test, NB_pred))\n",
        "#print(classification_report(t_test, NB_pred))"
      ],
      "execution_count": null,
      "outputs": [
        {
          "output_type": "stream",
          "text": [
            "Naive Bayes accuracy: 0.76\n"
          ],
          "name": "stdout"
        }
      ]
    },
    {
      "cell_type": "code",
      "metadata": {
        "colab": {
          "base_uri": "https://localhost:8080/"
        },
        "id": "vQCE_5ssawUj",
        "outputId": "d88c3837-795f-4610-f4b4-40b43ebad796"
      },
      "source": [
        "np.logspace(0,-9, num=10)"
      ],
      "execution_count": null,
      "outputs": [
        {
          "output_type": "execute_result",
          "data": {
            "text/plain": [
              "array([1.e+00, 1.e-01, 1.e-02, 1.e-03, 1.e-04, 1.e-05, 1.e-06, 1.e-07,\n",
              "       1.e-08, 1.e-09])"
            ]
          },
          "metadata": {
            "tags": []
          },
          "execution_count": 77
        }
      ]
    },
    {
      "cell_type": "code",
      "metadata": {
        "colab": {
          "base_uri": "https://localhost:8080/"
        },
        "id": "GDif2VnXawUj",
        "outputId": "463ddf55-2ab8-4504-8f17-2991100c3a40"
      },
      "source": [
        "from sklearn.model_selection import GridSearchCV\n",
        "\n",
        "np.random.seed(999)\n",
        "\n",
        "nb_classifier = GaussianNB()\n",
        "\n",
        "#define paramter range\n",
        "params_NB = {'var_smoothing': np.logspace(0,-9, num=100)}\n",
        "\n",
        "# GridSearch will do an exhaustive search over params_NB for an estimator\n",
        "gs_NB = GridSearchCV(estimator=nb_classifier,param_grid=params_NB,cv=cv_method,verbose=1,scoring='accuracy')\n",
        "\n",
        "#fit to train data\n",
        "gs_NB.fit(D_train, t_train);"
      ],
      "execution_count": null,
      "outputs": [
        {
          "output_type": "stream",
          "text": [
            "Fitting 15 folds for each of 100 candidates, totalling 1500 fits\n"
          ],
          "name": "stdout"
        },
        {
          "output_type": "stream",
          "text": [
            "[Parallel(n_jobs=1)]: Using backend SequentialBackend with 1 concurrent workers.\n",
            "[Parallel(n_jobs=1)]: Done 1500 out of 1500 | elapsed:    3.0s finished\n"
          ],
          "name": "stderr"
        }
      ]
    },
    {
      "cell_type": "code",
      "metadata": {
        "colab": {
          "base_uri": "https://localhost:8080/"
        },
        "id": "h5diS14DawUj",
        "outputId": "1144a533-8c53-4b7a-abc9-f9afeeea9460"
      },
      "source": [
        "gs_NB.best_params_"
      ],
      "execution_count": null,
      "outputs": [
        {
          "output_type": "execute_result",
          "data": {
            "text/plain": [
              "{'var_smoothing': 1.0}"
            ]
          },
          "metadata": {
            "tags": []
          },
          "execution_count": 79
        }
      ]
    },
    {
      "cell_type": "code",
      "metadata": {
        "colab": {
          "base_uri": "https://localhost:8080/"
        },
        "id": "Z9mfh4VFawUk",
        "outputId": "c2a82f15-220b-493e-ce4a-851140224051"
      },
      "source": [
        "gs_NB.best_score_"
      ],
      "execution_count": null,
      "outputs": [
        {
          "output_type": "execute_result",
          "data": {
            "text/plain": [
              "0.7680952380952382"
            ]
          },
          "metadata": {
            "tags": []
          },
          "execution_count": 80
        }
      ]
    },
    {
      "cell_type": "code",
      "metadata": {
        "id": "DeENcw3wawUk"
      },
      "source": [
        "results_NB = pd.DataFrame(gs_NB.cv_results_['params'])\n",
        "results_NB['test_score'] = gs_NB.cv_results_['mean_test_score']"
      ],
      "execution_count": null,
      "outputs": []
    },
    {
      "cell_type": "code",
      "metadata": {
        "colab": {
          "base_uri": "https://localhost:8080/",
          "height": 298
        },
        "id": "pdCf2hTcawUk",
        "outputId": "6513a623-2315-43e7-b685-bfc3bf6c5df6"
      },
      "source": [
        "plt.plot(results_NB['var_smoothing'], results_NB['test_score'], marker = '.')    \n",
        "plt.xlabel('Var. Smoothing')\n",
        "plt.ylabel(\"Mean CV Score\")\n",
        "plt.title(\"Naive Bayes Performance Comparison\")\n",
        "plt.show()"
      ],
      "execution_count": null,
      "outputs": [
        {
          "output_type": "display_data",
          "data": {
            "image/png": "[encoded data removed]",
            "text/plain": [
              "<Figure size 432x288 with 1 Axes>"
            ]
          },
          "metadata": {
            "tags": [],
            "image/png": {
              "width": 407,
              "height": 281
            }
          }
        }
      ]
    },
    {
      "cell_type": "markdown",
      "metadata": {
        "id": "J0xAAu2KHXGW"
      },
      "source": [
        "Tuning the single available parameter var smoothing for the Naive Bayes classifier shows an increased mean cv score with a higher number. This has improved accuracy slightly."
      ]
    },
    {
      "cell_type": "code",
      "metadata": {
        "colab": {
          "base_uri": "https://localhost:8080/"
        },
        "id": "Jcuo0k9LawUk",
        "outputId": "ee654470-c2ca-4bc3-97a6-2aa86ddb7579"
      },
      "source": [
        "#predict the response for test dataset with the Hyperparamter tuned model\n",
        "hyper_NB_pred = gs_NB.predict(D_test)\n",
        "\n",
        "print(\"Naive Bayes tuned accuracy:\",metrics.accuracy_score(t_test, hyper_NB_pred))"
      ],
      "execution_count": null,
      "outputs": [
        {
          "output_type": "stream",
          "text": [
            "Naive Bayes tuned accuracy: 0.7733333333333333\n"
          ],
          "name": "stdout"
        }
      ]
    },
    {
      "cell_type": "markdown",
      "metadata": {
        "id": "JyauJ2qUawUk"
      },
      "source": [
        "### SVM"
      ]
    },
    {
      "cell_type": "code",
      "metadata": {
        "colab": {
          "base_uri": "https://localhost:8080/"
        },
        "id": "b2FoEatoawUk",
        "scrolled": true,
        "outputId": "17b06e44-98ce-4588-9592-ec2a42628b2e"
      },
      "source": [
        "#import SVM model\n",
        "from sklearn import svm\n",
        "\n",
        "#create SVM classifier\n",
        "clf_SVM = svm.SVC(kernel='linear')\n",
        "\n",
        "#train the model using D_train and t_train\n",
        "clf_SVM.fit(D_train, t_train)\n",
        "\n",
        "#predict the target churn for test dataset\n",
        "SVM_pred = clf_SVM.predict(D_test)\n",
        "\n",
        "#print SVM model accuracy\n",
        "print(\"SVM accuracy:\",metrics.accuracy_score(t_test, SVM_pred))"
      ],
      "execution_count": null,
      "outputs": [
        {
          "output_type": "stream",
          "text": [
            "SVM accuracy: 0.71\n"
          ],
          "name": "stdout"
        }
      ]
    },
    {
      "cell_type": "code",
      "metadata": {
        "colab": {
          "base_uri": "https://localhost:8080/"
        },
        "id": "5jaqR5BpawUl",
        "outputId": "f37a72b6-5e99-4720-ea12-6cdd1d5643d2"
      },
      "source": [
        "from sklearn.svm import SVC\n",
        "\n",
        "svm_classifier = SVC()\n",
        "\n",
        "#define parameter range\n",
        "params_SVM = {'C': [0.1,1,10,100], \n",
        "              'gamma': [1,0.1,0.01,0.001],\n",
        "              'kernel': ['linear','rbf','poly','sigmoid']} \n",
        "  \n",
        "gs_SVM = GridSearchCV(estimator=svm_classifier,param_grid=params_SVM,refit=True,verbose=1)\n",
        "  \n",
        "#fit the model for grid search\n",
        "gs_SVM.fit(D_train, t_train);"
      ],
      "execution_count": null,
      "outputs": [
        {
          "output_type": "stream",
          "text": [
            "Fitting 5 folds for each of 64 candidates, totalling 320 fits\n"
          ],
          "name": "stdout"
        },
        {
          "output_type": "stream",
          "text": [
            "[Parallel(n_jobs=1)]: Using backend SequentialBackend with 1 concurrent workers.\n",
            "[Parallel(n_jobs=1)]: Done 320 out of 320 | elapsed:   10.3s finished\n"
          ],
          "name": "stderr"
        }
      ]
    },
    {
      "cell_type": "code",
      "metadata": {
        "colab": {
          "base_uri": "https://localhost:8080/"
        },
        "id": "HgbU3-PLawUl",
        "outputId": "1611b76f-b00c-48f7-dcd1-3702235ced29"
      },
      "source": [
        "gs_SVM.best_params_"
      ],
      "execution_count": null,
      "outputs": [
        {
          "output_type": "execute_result",
          "data": {
            "text/plain": [
              "{'C': 10, 'gamma': 1, 'kernel': 'rbf'}"
            ]
          },
          "metadata": {
            "tags": []
          },
          "execution_count": 86
        }
      ]
    },
    {
      "cell_type": "code",
      "metadata": {
        "colab": {
          "base_uri": "https://localhost:8080/"
        },
        "id": "d6IaTXawawUl",
        "outputId": "4d8e548d-9265-4c44-9e46-cde6d0a8ba1c"
      },
      "source": [
        "gs_SVM.best_score_"
      ],
      "execution_count": null,
      "outputs": [
        {
          "output_type": "execute_result",
          "data": {
            "text/plain": [
              "0.7792857142857142"
            ]
          },
          "metadata": {
            "tags": []
          },
          "execution_count": 87
        }
      ]
    },
    {
      "cell_type": "code",
      "metadata": {
        "id": "0zfhC1YTawUl"
      },
      "source": [
        "results_SVM = pd.DataFrame(gs_SVM.cv_results_['params'])\n",
        "results_SVM['test_score'] = gs_SVM.cv_results_['mean_test_score']"
      ],
      "execution_count": null,
      "outputs": []
    },
    {
      "cell_type": "code",
      "metadata": {
        "colab": {
          "base_uri": "https://localhost:8080/",
          "height": 298
        },
        "id": "PRsGfyC2awUm",
        "outputId": "d16440a3-eaa4-4c51-bafc-6c7b32639986"
      },
      "source": [
        "#graph\n",
        "for i in ['linear','rbf','poly','sigmoid']:\n",
        "    temp = results_SVM[results_SVM['kernel'] == i]\n",
        "    temp_average = temp.groupby('gamma').agg({'test_score': 'mean'})\n",
        "    plt.plot(temp_average, marker = '.', label = i)\n",
        "\n",
        "\n",
        "\n",
        "plt.legend(title='kernel:')\n",
        "plt.xlabel('Gamma')\n",
        "plt.ylabel(\"Mean CV Score\")\n",
        "plt.title(\"SVM Performance Comparison\")\n",
        "plt.show()"
      ],
      "execution_count": null,
      "outputs": [
        {
          "output_type": "display_data",
          "data": {
            "image/png": "[encoded data removed]",
            "text/plain": [
              "<Figure size 432x288 with 1 Axes>"
            ]
          },
          "metadata": {
            "tags": [],
            "image/png": {
              "width": 394,
              "height": 281
            }
          }
        }
      ]
    },
    {
      "cell_type": "markdown",
      "metadata": {
        "id": "2OXqnhxoH8zh"
      },
      "source": [
        "SVM has many parameters available to tune which makes it more complicated than Naive Bayes. The graph shows that the rbf kernel performs best overall and a higher gamma is better except with the sigmoid kernel."
      ]
    },
    {
      "cell_type": "code",
      "metadata": {
        "colab": {
          "base_uri": "https://localhost:8080/"
        },
        "id": "557dBMWBawUm",
        "outputId": "f53a9a2f-5903-4daf-cbc7-6c9f25ff2aa6"
      },
      "source": [
        "#predict the response for test dataset with the Hyperparamter tuned model\n",
        "hyper_SVM_pred = gs_SVM.predict(D_test)\n",
        "\n",
        "print(\"SVM tuned accuracy:\",metrics.accuracy_score(t_test, SVM_pred))"
      ],
      "execution_count": null,
      "outputs": [
        {
          "output_type": "stream",
          "text": [
            "SVM tuned accuracy: 0.71\n"
          ],
          "name": "stdout"
        }
      ]
    },
    {
      "cell_type": "markdown",
      "metadata": {
        "id": "xfgf4A3CIdjN"
      },
      "source": [
        "Interestingly on the test data the accuracy has shown little to no improvment despite showing a promising accuracy on the train data. This shows that good performance in training does not equal good performance later on."
      ]
    },
    {
      "cell_type": "markdown",
      "metadata": {
        "id": "HcUQKY97jIhr"
      },
      "source": [
        "### Bagging"
      ]
    },
    {
      "cell_type": "code",
      "metadata": {
        "colab": {
          "base_uri": "https://localhost:8080/"
        },
        "id": "wNqaRLTXjuwe",
        "outputId": "b8e6c272-4bdf-4264-8bc0-a1667b0ae8e3"
      },
      "source": [
        "from sklearn.ensemble import BaggingClassifier\n",
        "BC_class = BaggingClassifier(n_estimators=10, random_state=0)\n",
        "\n",
        "params_BC = {'bootstrap_features': [True, False],\n",
        "             'n_estimators': [10, 20, 30, 40, 50]}\n",
        "\n",
        "gs_BC = GridSearchCV(estimator=BC_class, \n",
        "                     param_grid=params_BC, \n",
        "                     cv=cv_method,\n",
        "                     verbose=1, \n",
        "                     scoring='accuracy')\n",
        "\n",
        "gs_BC.fit(D_train, t_train);"
      ],
      "execution_count": null,
      "outputs": [
        {
          "output_type": "stream",
          "text": [
            "Fitting 15 folds for each of 10 candidates, totalling 150 fits\n"
          ],
          "name": "stdout"
        },
        {
          "output_type": "stream",
          "text": [
            "[Parallel(n_jobs=1)]: Using backend SequentialBackend with 1 concurrent workers.\n",
            "[Parallel(n_jobs=1)]: Done 150 out of 150 | elapsed:    8.0s finished\n"
          ],
          "name": "stderr"
        }
      ]
    },
    {
      "cell_type": "code",
      "metadata": {
        "colab": {
          "base_uri": "https://localhost:8080/"
        },
        "id": "wpV_420_ju3L",
        "outputId": "107e4630-84f4-4c2c-a36c-8c14ca7ed457"
      },
      "source": [
        "gs_BC.best_params_"
      ],
      "execution_count": null,
      "outputs": [
        {
          "output_type": "execute_result",
          "data": {
            "text/plain": [
              "{'bootstrap_features': True, 'n_estimators': 40}"
            ]
          },
          "metadata": {
            "tags": []
          },
          "execution_count": 92
        }
      ]
    },
    {
      "cell_type": "code",
      "metadata": {
        "colab": {
          "base_uri": "https://localhost:8080/"
        },
        "id": "x5Wm6Tnlju-G",
        "outputId": "c86773c3-d423-4a7a-b95f-20d9336b2e8c"
      },
      "source": [
        "gs_BC.best_score_"
      ],
      "execution_count": null,
      "outputs": [
        {
          "output_type": "execute_result",
          "data": {
            "text/plain": [
              "0.7821428571428571"
            ]
          },
          "metadata": {
            "tags": []
          },
          "execution_count": 93
        }
      ]
    },
    {
      "cell_type": "code",
      "metadata": {
        "colab": {
          "base_uri": "https://localhost:8080/"
        },
        "id": "t4a0o2t8jvEs",
        "outputId": "98da4093-eb9f-4607-de03-1396c41b5a42"
      },
      "source": [
        "results_BC = pd.DataFrame(gs_BC.cv_results_['params'])\n",
        "results_BC['test_score'] = gs_BC.cv_results_['mean_test_score']\n",
        "results_BC.columns"
      ],
      "execution_count": null,
      "outputs": [
        {
          "output_type": "execute_result",
          "data": {
            "text/plain": [
              "Index(['bootstrap_features', 'n_estimators', 'test_score'], dtype='object')"
            ]
          },
          "metadata": {
            "tags": []
          },
          "execution_count": 94
        }
      ]
    },
    {
      "cell_type": "code",
      "metadata": {
        "colab": {
          "base_uri": "https://localhost:8080/",
          "height": 298
        },
        "id": "Hjkx2qWtjvKv",
        "outputId": "e697a61a-4b54-43ae-b268-82a78d68502d"
      },
      "source": [
        "for i in [True, False]:\n",
        "    temp = results_BC[results_BC['bootstrap_features'] == i]\n",
        "    temp_average = temp.groupby('n_estimators').agg({'test_score': 'mean'})\n",
        "    plt.plot(temp_average, marker = '.', label = i)\n",
        "    \n",
        "    \n",
        "plt.legend(title='bootstrap_features:')\n",
        "plt.xlabel('number of base estimators')\n",
        "plt.ylabel(\"Mean CV Score\")\n",
        "plt.title(\"BC Performance Comparison\")\n",
        "plt.show()"
      ],
      "execution_count": null,
      "outputs": [
        {
          "output_type": "display_data",
          "data": {
            "image/png": "[encoded data removed]",
            "text/plain": [
              "<Figure size 432x288 with 1 Axes>"
            ]
          },
          "metadata": {
            "tags": [],
            "image/png": {
              "width": 400,
              "height": 281
            }
          }
        }
      ]
    },
    {
      "cell_type": "code",
      "metadata": {
        "colab": {
          "base_uri": "https://localhost:8080/"
        },
        "id": "t4MClwRcjvQy",
        "outputId": "8f19d390-ece3-4770-ac72-90b07bcb5990"
      },
      "source": [
        "#predict the response for test dataset\n",
        "BC_pred = gs_BC.predict(D_test)\n",
        "\n",
        "\n",
        "print(\"GB accuracy:\",metrics.accuracy_score(t_test, BC_pred))"
      ],
      "execution_count": null,
      "outputs": [
        {
          "output_type": "stream",
          "text": [
            "GB accuracy: 0.7633333333333333\n"
          ],
          "name": "stdout"
        }
      ]
    },
    {
      "cell_type": "markdown",
      "metadata": {
        "id": "xi5KBgFdjDXg"
      },
      "source": [
        "### Gradient Boosting"
      ]
    },
    {
      "cell_type": "code",
      "metadata": {
        "colab": {
          "base_uri": "https://localhost:8080/"
        },
        "id": "jk9XD40VjXjG",
        "outputId": "334646b8-4c4e-4b27-9f81-c21965ad30e6"
      },
      "source": [
        "from sklearn.ensemble import GradientBoostingClassifier\n",
        "GB_class = GradientBoostingClassifier(n_estimators=100, learning_rate=1.0, max_depth=1, random_state=0)\n",
        "\n",
        "\n",
        "params_GB = {'learning_rate': [0.1, 0.5, 1, 1.25, 1.5],\n",
        "             'max_depth': [1, 2, 3],\n",
        "             'loss': ['deviance', 'exponential']}\n",
        "\n",
        "gs_GB = GridSearchCV(estimator=GB_class, \n",
        "                     param_grid=params_GB, \n",
        "                     cv=cv_method,\n",
        "                     verbose=1, \n",
        "                     scoring='accuracy')\n",
        "\n",
        "gs_GB.fit(D_train, t_train);"
      ],
      "execution_count": null,
      "outputs": [
        {
          "output_type": "stream",
          "text": [
            "Fitting 15 folds for each of 30 candidates, totalling 450 fits\n"
          ],
          "name": "stdout"
        },
        {
          "output_type": "stream",
          "text": [
            "[Parallel(n_jobs=1)]: Using backend SequentialBackend with 1 concurrent workers.\n",
            "[Parallel(n_jobs=1)]: Done 450 out of 450 | elapsed:   35.6s finished\n"
          ],
          "name": "stderr"
        }
      ]
    },
    {
      "cell_type": "code",
      "metadata": {
        "colab": {
          "base_uri": "https://localhost:8080/"
        },
        "id": "hlhKDOEvjdv5",
        "outputId": "2aa7b7a5-b462-45ee-da3f-a91aa87e012a"
      },
      "source": [
        "gs_GB.best_params_"
      ],
      "execution_count": null,
      "outputs": [
        {
          "output_type": "execute_result",
          "data": {
            "text/plain": [
              "{'learning_rate': 0.1, 'loss': 'exponential', 'max_depth': 1}"
            ]
          },
          "metadata": {
            "tags": []
          },
          "execution_count": 98
        }
      ]
    },
    {
      "cell_type": "code",
      "metadata": {
        "colab": {
          "base_uri": "https://localhost:8080/"
        },
        "id": "jqLUaX9fjd2m",
        "outputId": "9a832db0-3b12-4a71-ada0-5cacbf61a5c9"
      },
      "source": [
        "gs_GB.best_score_"
      ],
      "execution_count": null,
      "outputs": [
        {
          "output_type": "execute_result",
          "data": {
            "text/plain": [
              "0.7842857142857144"
            ]
          },
          "metadata": {
            "tags": []
          },
          "execution_count": 99
        }
      ]
    },
    {
      "cell_type": "code",
      "metadata": {
        "colab": {
          "base_uri": "https://localhost:8080/"
        },
        "id": "ZMtnTO80jd9O",
        "outputId": "6207853f-4ed6-44f4-a59b-305ab57b3cf1"
      },
      "source": [
        "results_GB = pd.DataFrame(gs_GB.cv_results_['params'])\n",
        "results_GB['test_score'] = gs_GB.cv_results_['mean_test_score']\n",
        "results_GB.columns"
      ],
      "execution_count": null,
      "outputs": [
        {
          "output_type": "execute_result",
          "data": {
            "text/plain": [
              "Index(['learning_rate', 'loss', 'max_depth', 'test_score'], dtype='object')"
            ]
          },
          "metadata": {
            "tags": []
          },
          "execution_count": 100
        }
      ]
    },
    {
      "cell_type": "code",
      "metadata": {
        "colab": {
          "base_uri": "https://localhost:8080/",
          "height": 298
        },
        "id": "3cAVtwfUjeD4",
        "outputId": "cd4a3868-82b5-4363-e1a8-b39091f12ce0"
      },
      "source": [
        "for i in ['deviance', 'exponential']:\n",
        "    temp = results_GB[results_GB['loss'] == i]\n",
        "    temp_average = temp.groupby('learning_rate').agg({'test_score': 'mean'})\n",
        "    plt.plot(temp_average, marker = '.', label = i)\n",
        "    \n",
        "    \n",
        "plt.legend(title='loss type:')\n",
        "plt.xlabel('Learning Rate')\n",
        "plt.ylabel(\"Mean CV Score\")\n",
        "plt.title(\"GB Performance Comparison\")\n",
        "plt.show()"
      ],
      "execution_count": null,
      "outputs": [
        {
          "output_type": "display_data",
          "data": {
            "image/png": "[encoded data removed]",
            "text/plain": [
              "<Figure size 432x288 with 1 Axes>"
            ]
          },
          "metadata": {
            "tags": [],
            "image/png": {
              "width": 400,
              "height": 281
            }
          }
        }
      ]
    },
    {
      "cell_type": "code",
      "metadata": {
        "colab": {
          "base_uri": "https://localhost:8080/"
        },
        "id": "LrWA4pGKjeLb",
        "outputId": "2b420015-947d-4f6c-9cce-0e4236c51879"
      },
      "source": [
        "#predict the response for test dataset\n",
        "GB_pred = gs_GB.predict(D_test)\n",
        "\n",
        "\n",
        "print(\"GB accuracy:\",metrics.accuracy_score(t_test, GB_pred))"
      ],
      "execution_count": null,
      "outputs": [
        {
          "output_type": "stream",
          "text": [
            "GB accuracy: 0.765\n"
          ],
          "name": "stdout"
        }
      ]
    },
    {
      "cell_type": "markdown",
      "metadata": {
        "id": "gOLW0JL1awUm"
      },
      "source": [
        "# Model Comparison"
      ]
    },
    {
      "cell_type": "markdown",
      "metadata": {
        "id": "rOGPbNynmx6r"
      },
      "source": [
        "For the hyper paramter tuning phase the 1400 row train dataset was used inside a cross-validation framework to achieve the best tuned paramters for the 6 classifiers. The next step would be to verify the performance of these classifiers fitting them to the 600 row test data. For the model comparison we have narrowed down to three classifiers to simplify the comparison. We will perform t-tests in pairs to see the comparitive statistical differences in two classifiers. The combination we are conducting to determine an AUC score are as follows:\n",
        "1. NB vs. DT\n",
        "2. GB vs. NB\n",
        "3. GB vs. DT"
      ]
    },
    {
      "cell_type": "code",
      "metadata": {
        "colab": {
          "base_uri": "https://localhost:8080/"
        },
        "id": "oJJMtZ40EmQ0",
        "outputId": "6be6dfcd-1168-44f9-df0c-a9076365ada6"
      },
      "source": [
        "cv_results_DT = cross_val_score(estimator=gs_DT.best_estimator_,\n",
        "                                 X=D_test,\n",
        "                                 y=t_test, \n",
        "                                 cv=cv_method, \n",
        "                                 scoring='roc_auc')\n",
        "cv_results_DT.mean()"
      ],
      "execution_count": null,
      "outputs": [
        {
          "output_type": "execute_result",
          "data": {
            "text/plain": [
              "0.8029940720474237"
            ]
          },
          "metadata": {
            "tags": []
          },
          "execution_count": 103
        }
      ]
    },
    {
      "cell_type": "code",
      "metadata": {
        "colab": {
          "base_uri": "https://localhost:8080/"
        },
        "id": "O-VBVpWUrEp8",
        "outputId": "4924135a-26ae-4726-afe5-f54035c25947"
      },
      "source": [
        "cv_results_NB = cross_val_score(estimator=nb_classifier,\n",
        "                                 X=D_test,\n",
        "                                 y=t_test, \n",
        "                                 cv=cv_method, \n",
        "                                 n_jobs=-2,\n",
        "                                 scoring='roc_auc')\n",
        "cv_results_NB.mean()"
      ],
      "execution_count": null,
      "outputs": [
        {
          "output_type": "execute_result",
          "data": {
            "text/plain": [
              "0.8184279851475473"
            ]
          },
          "metadata": {
            "tags": []
          },
          "execution_count": 104
        }
      ]
    },
    {
      "cell_type": "code",
      "metadata": {
        "colab": {
          "base_uri": "https://localhost:8080/"
        },
        "id": "8zsojgBDrm-D",
        "outputId": "5a1d0830-c2b5-4b30-b084-153902d0ed2d"
      },
      "source": [
        "cv_results_GB = cross_val_score(estimator=GB_class,\n",
        "                                X=D_test,\n",
        "                                y=t_test, \n",
        "                                cv=cv_method, \n",
        "                                n_jobs=-2,\n",
        "                                scoring='roc_auc')\n",
        "cv_results_GB.mean()"
      ],
      "execution_count": null,
      "outputs": [
        {
          "output_type": "execute_result",
          "data": {
            "text/plain": [
              "0.8274288319979154"
            ]
          },
          "metadata": {
            "tags": []
          },
          "execution_count": 105
        }
      ]
    },
    {
      "cell_type": "markdown",
      "metadata": {
        "id": "IjUrXX45sjqc"
      },
      "source": [
        "With the same random state each classifier has been fitted with the same data sections making them comparable. Next we will run the t-tests. We find that using the AUC metric Gradient Boosting scores the highest."
      ]
    },
    {
      "cell_type": "code",
      "metadata": {
        "colab": {
          "base_uri": "https://localhost:8080/"
        },
        "id": "kWHrUkOTrpum",
        "outputId": "dd44cc1b-bdcb-4f85-d983-a024a0b19142"
      },
      "source": [
        "print(stats.ttest_rel(cv_results_NB, cv_results_DT))\n",
        "print(stats.ttest_rel(cv_results_GB, cv_results_NB))\n",
        "print(stats.ttest_rel(cv_results_GB, cv_results_DT))"
      ],
      "execution_count": null,
      "outputs": [
        {
          "output_type": "stream",
          "text": [
            "Ttest_relResult(statistic=2.665934458593104, pvalue=0.018445913894352312)\n",
            "Ttest_relResult(statistic=2.7089037872839588, pvalue=0.016958294398945594)\n",
            "Ttest_relResult(statistic=5.094428640070421, pvalue=0.000163362132211706)\n"
          ],
          "name": "stdout"
        }
      ]
    },
    {
      "cell_type": "markdown",
      "metadata": {
        "id": "TYCzuicrsxlb"
      },
      "source": [
        "Now AUC is not a universal metric that means the highest scoring classifier will perform best for the business, metrics such as accuracy, precision, recall, f1 score and should accompany the decision making process"
      ]
    },
    {
      "cell_type": "code",
      "metadata": {
        "colab": {
          "base_uri": "https://localhost:8080/"
        },
        "id": "z6wAGdo8qCUS",
        "outputId": "fc65fa14-66a7-416c-aff3-7015407197f1"
      },
      "source": [
        "#print classification reports for each classifier\n",
        "print(\"\\nClassification report for K-Nearest Neighbor\") \n",
        "print(metrics.classification_report(t_test, k_pred))\n",
        "\n",
        "print(\"\\nClassification report for Decision Tree\") \n",
        "print(metrics.classification_report(t_test, dt_pred))\n",
        "\n",
        "print(\"\\nClassification report for Naive Bayes\") \n",
        "print(classification_report(t_test, hyper_NB_pred))\n",
        "\n",
        "print(\"\\nClassification report for Support Vector Machine\") \n",
        "print(classification_report(t_test, SVM_pred))\n",
        "\n",
        "print(\"\\nClassification report for Bagging\") \n",
        "print(classification_report(t_test, BC_pred))\n",
        "\n",
        "print(\"\\nClassification report for Gradient Boosting\") \n",
        "print(classification_report(t_test, GB_pred))"
      ],
      "execution_count": null,
      "outputs": [
        {
          "output_type": "stream",
          "text": [
            "\n",
            "Classification report for K-Nearest Neighbor\n",
            "              precision    recall  f1-score   support\n",
            "\n",
            "           0       0.71      1.00      0.83       426\n",
            "           1       0.00      0.00      0.00       174\n",
            "\n",
            "    accuracy                           0.71       600\n",
            "   macro avg       0.35      0.50      0.42       600\n",
            "weighted avg       0.50      0.71      0.59       600\n",
            "\n",
            "\n",
            "Classification report for Decision Tree\n",
            "              precision    recall  f1-score   support\n",
            "\n",
            "           0       0.80      0.89      0.84       426\n",
            "           1       0.63      0.45      0.53       174\n",
            "\n",
            "    accuracy                           0.77       600\n",
            "   macro avg       0.72      0.67      0.69       600\n",
            "weighted avg       0.75      0.77      0.75       600\n",
            "\n",
            "NB\n",
            "              precision    recall  f1-score   support\n",
            "\n",
            "           0       0.83      0.86      0.84       426\n",
            "           1       0.62      0.57      0.59       174\n",
            "\n",
            "    accuracy                           0.77       600\n",
            "   macro avg       0.72      0.71      0.72       600\n",
            "weighted avg       0.77      0.77      0.77       600\n",
            "\n",
            "SVM\n",
            "              precision    recall  f1-score   support\n",
            "\n",
            "           0       0.71      1.00      0.83       426\n",
            "           1       0.00      0.00      0.00       174\n",
            "\n",
            "    accuracy                           0.71       600\n",
            "   macro avg       0.35      0.50      0.42       600\n",
            "weighted avg       0.50      0.71      0.59       600\n",
            "\n",
            "BC\n",
            "              precision    recall  f1-score   support\n",
            "\n",
            "           0       0.78      0.92      0.85       426\n",
            "           1       0.66      0.38      0.48       174\n",
            "\n",
            "    accuracy                           0.76       600\n",
            "   macro avg       0.72      0.65      0.66       600\n",
            "weighted avg       0.75      0.76      0.74       600\n",
            "\n",
            "GB\n",
            "              precision    recall  f1-score   support\n",
            "\n",
            "           0       0.80      0.89      0.84       426\n",
            "           1       0.63      0.45      0.53       174\n",
            "\n",
            "    accuracy                           0.77       600\n",
            "   macro avg       0.72      0.67      0.69       600\n",
            "weighted avg       0.75      0.77      0.75       600\n",
            "\n"
          ],
          "name": "stdout"
        }
      ]
    },
    {
      "cell_type": "markdown",
      "metadata": {
        "id": "IgbGeywyu_pC"
      },
      "source": [
        "Since in the telecommunication a customer churning (false negative)has a bigger negative impact then offering a customer that wasn't going to churn a promotion (false positive), a high recall is favourable as recall=true positive/truepositive+false negative. The classifier with the highest average recall was Naive Bayes."
      ]
    },
    {
      "cell_type": "markdown",
      "metadata": {
        "id": "uALa22ndmzZR"
      },
      "source": [
        "### Critique & Limitations"
      ]
    },
    {
      "cell_type": "markdown",
      "metadata": {
        "id": "Hlme5-pGygaF"
      },
      "source": [
        "In this report we split the data 70:30, with the hyper paramter tuning occuring within the train data. Ideally this is normally done on a seperate test so the tuning benefits may not have been fully realised. The feature selection was performed within a train / test approach that would have otherwise risked being overfitted if not been done that way. Our highest performing classifier based on AUC was Gradient Bagging however taking into consideration the training time was not in scope of this report. A limitation of this report is the individual performance of the trainging and prediction speed of each classifier, for example SVM uses less memory than NB as it uses a subset of train, this will need to be considered further as it may play a crucial role in the implementation and performance in a system. "
      ]
    },
    {
      "cell_type": "markdown",
      "metadata": {
        "id": "xWYogPKfm5Sj"
      },
      "source": [
        "(Task 4) (15 points) Summary & Conclusions: This section needs to include the following subsections:\n",
        "(Task 4.1) (5 points) Project Summary: A comprehensive summary of your entire project (both Phase 1 and Phase 2).\n",
        "(Task 4.2) (5 points) Summary of Findings: A comprehensive summary of your findings. That is, what exactly did you find about your particular problem?\n",
        "(Task 4.3) (5 points) Conclusions: Your detailed conclusions as they relate to your goals and objectives."
      ]
    },
    {
      "cell_type": "markdown",
      "metadata": {
        "id": "cTuvvKevU3Qw"
      },
      "source": [
        "# Summary & Conclusions"
      ]
    },
    {
      "cell_type": "markdown",
      "metadata": {
        "id": "Jgh0yUn5U_4_"
      },
      "source": [
        "### Project Summary"
      ]
    },
    {
      "cell_type": "markdown",
      "metadata": {
        "id": "GHduejhsVsX5"
      },
      "source": [
        "In phase 1 we check the whole dataset of telecom_users, to see if there are any missing values and remove the rows if any. We also delete Id columns which do not contribute anything of value.We also check for white spaces remove them and convert the data type from object to float.\n",
        "The dataset is now cleaned.\n",
        "We perform some visualizations for a better understanding of the features in the dataset\n",
        "The cleaned dataset is stored in tel_sample.csv. We have 19 festures in our datset of which 15 are descriptive and 4 are numerical. The target feature is separated from the dataset and treated as a stand alone dataset through out our analysis We perform one hot encoding of the 15 descriptive features to turn them into numerical features. We also perform target encoding for our target feature as 1:yes and 0:no We then scale all the features using the min_max scalar, for our features to be between 0 and 1.\n",
        "\n",
        "We split the dataset into train and test splits in the raio of 70:30. The train dataset now has 1400 rows and test dataset has 600.\n",
        "\n",
        "Before fiitting the model We select the 5 best features to avoid overfitting and for better performance. We use the Decision tree classifier as the Wrapper Firstly We assess the performance using all the features in the dataset. We use stratified 5-fold cross-validation with 3 repetitions with a random state of 999.\n",
        "\n",
        "The following feature selection methods are used: \n",
        "F-score <br>\n",
        "Mutual information <br>\n",
        "Random forest importance <br>\n",
        " SPSA<br>\n",
        "\n",
        "Of which we find that SPSA method is the most effective. So we use the 5 best features given by the SPSA method for further analysis. which include Dependents, DeviceProtection, tenure, PaymentMethod,TechSupport.\n",
        "\n",
        "The following algorithms are used subsequently for the predictive modelling\n",
        "\n",
        ".K-Nearest Neighbors <br>\n",
        "Decision trees <br>\n",
        ".Naive Bayes <br>\n",
        "SVM <br>\n",
        "Bagging <br>\n",
        "Gradient Boosting <br>\n",
        "\n",
        "We fit the model on train data and evaluate its performance on the test dataset. we conduct a 5-fold stratified cross-validation to fine-tune hyperparameters of each classifier we use the Grid search function that searches through all the best combinations in the train phase and provide the hyperaparameters with the highest accuracy score.\n",
        "\n",
        "We use the plot to show the same.\n",
        "\n",
        "Once we have identify the respective hyper parameters for the respective classifiers we fit the model on the test data\n",
        "\n",
        "After subsequently performing all the above algorithms We compare the Models using paired t-tests to see if there is a statistical significance. And construct a classification report for each of the models with respect to their recall scores and confusion matrices on the test data."
      ]
    },
    {
      "cell_type": "markdown",
      "metadata": {
        "id": "q014sv2SVw-n"
      },
      "source": [
        "### Summary of Findings"
      ]
    },
    {
      "cell_type": "markdown",
      "metadata": {
        "id": "WeEs670AW0OW"
      },
      "source": [
        "After going through several features selction methods we find that for this particular case num_features=5 using the Spsa method works the best.\n",
        "\n",
        "The accuracy of Naive Bayes is 0.77 and the accuracy of its prediction on the test dataset when compared to all other algorithms yields better results\n",
        "\n",
        "When evaluated on the test data using cross validation,the Gradient Boosting  outperforms both Naive Bayes and Decision tree with respect to AUC.With a score of 0.827\n",
        "\n",
        "Henceforth we see that the K nearest neighbor and SVM have the  highest recall of 1.00\n",
        "\n",
        "When performed the paired t-tests we see that the t-statisic of the pair GB and DT is 5.094 and it is statistically significant with a p values<0.05"
      ]
    },
    {
      "cell_type": "markdown",
      "metadata": {
        "id": "1WTHlYt0faij"
      },
      "source": [
        "### Conclusion"
      ]
    },
    {
      "cell_type": "markdown",
      "metadata": {
        "id": "NSNRx8gHgV_w"
      },
      "source": [
        "Hence we conclude that using only a subset of features than all the features available in the dataset leads way for best fit of a model avoiding probelms such as overfitting, poor performance etc.\n",
        "\n",
        "it also curbs excess computational time and leads to better understanding of the dataset.\n",
        "\n",
        "\n",
        "Hyperparameter tuning of a classifier also paves way for a model to select its best parameters \n",
        "\n",
        "\n"
      ]
    },
    {
      "cell_type": "markdown",
      "metadata": {
        "id": "ggHo1PY9p2L9"
      },
      "source": [
        ""
      ]
    },
    {
      "cell_type": "markdown",
      "metadata": {
        "id": "4QcH2L2ep2IK"
      },
      "source": [
        ""
      ]
    }
  ]
}
